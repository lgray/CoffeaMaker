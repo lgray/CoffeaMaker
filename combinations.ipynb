{
 "cells": [
  {
   "cell_type": "code",
   "execution_count": 20,
   "metadata": {},
   "outputs": [],
   "source": [
    "from __future__ import print_function\n",
    "import numpy as np\n",
    "import numba\n",
    "import awkward\n",
    "import uproot_methods\n",
    "\n",
    "JaggedWithLorentz = awkward.Methods.mixin(uproot_methods.classes.TLorentzVector.ArrayMethods, awkward.JaggedArray)\n",
    "\n",
    "np.random.seed(4)\n",
    "nrows = 100000\n",
    "\n",
    "def p4_pt(p4):\n",
    "    # p4 is [n,4] numpy array\n",
    "    # returns [n] numpy array\n",
    "    if isinstance(p4, awkward.array.jagged.JaggedArray):\n",
    "        outjagged = p4.flatten()\n",
    "        outjagged = np.sqrt(outjagged[:,0]**2 + outjagged[:,1]**2)\n",
    "        outjagged = awkward.array.jagged.JaggedArray.fromcounts(p4.counts,outjagged)\n",
    "        return outjagged\n",
    "    return np.sqrt(p4[:,0]**2 + p4[:,1]**2)\n",
    "\n",
    "def p4_eta(p4):\n",
    "    if isinstance(p4, awkward.array.jagged.JaggedArray):\n",
    "        temp = p4.flatten()\n",
    "        p42_temp = temp**2\n",
    "        p3_temp = np.sqrt(np.sum(p42_temp[:,:3], axis=-1))\n",
    "        outjagged = temp[:,2]/p3_temp\n",
    "        outjagged = awkward.array.jagged.JaggedArray.fromcounts(p4.counts,outjagged)\n",
    "        return outjagged\n",
    "    \n",
    "    p42 = p4**2\n",
    "    p3 = np.sqrt(np.sum(p42[:,:3], axis=-1))\n",
    "    return p4[:,2]/p3"
   ]
  },
  {
   "cell_type": "code",
   "execution_count": 21,
   "metadata": {},
   "outputs": [],
   "source": [
    "def comb(counts, content):    \n",
    "    out_counts = counts*(counts-1)//2\n",
    "    out = np.empty((np.sum(out_counts), ) + content.shape[1:])\n",
    "    i = 0\n",
    "    n = 0\n",
    "    for c in counts:\n",
    "        for i1 in range(i, i+c):\n",
    "            for i2 in range(i1+1, i+c):\n",
    "                out[n] = content[i1]+content[i2]\n",
    "                n += 1\n",
    "        i += c\n",
    "    return (out_counts, out)\n",
    "\n",
    "comb_fast = numba.njit(comb)\n",
    "\n",
    "def awk_comb(awk):\n",
    "    c = awk.pairs(same=False)\n",
    "    return c[\"0\"] + c[\"1\"]\n",
    "\n",
    "def py_comb(awk):\n",
    "    counts, content = comb(awk.counts, awk.content)\n",
    "    return awkward.JaggedArray.fromcounts(counts, content)\n",
    "\n",
    "def py_comb_fast(awk):\n",
    "    counts, content = comb_fast(awk.counts, awk.content)\n",
    "    return awkward.JaggedArray.fromcounts(counts, content)"
   ]
  },
  {
   "cell_type": "code",
   "execution_count": 23,
   "metadata": {},
   "outputs": [
    {
     "name": "stdout",
     "output_type": "stream",
     "text": [
      "(155044, 4)\n",
      "[[] [[ 1.04207277  0.1267892   0.92282871  0.09448219]\n",
      " [-0.29999851  0.27206072 -0.0161241  -0.57967003]\n",
      " [ 1.30875069 -0.05433927 -0.05991065  1.32216588]\n",
      " [-0.64690012  2.15030163 -0.01200628 -1.4149374 ]] [] ... [[-0.88807425  0.48696454 -0.85691186 -1.28675248]\n",
      " [-0.45752417  0.71110524 -0.98889041  1.74406337]\n",
      " [-0.06262356  0.02991623  0.64694375  1.55028643]] [[ 1.37035845  0.77993088  0.30737432 -0.44359613]] []]\n"
     ]
    }
   ],
   "source": [
    "nwide = 4\n",
    "counts = np.minimum(np.random.exponential(2, size=nrows).astype(int), 20)\n",
    "content = np.random.normal(size=np.sum(counts)*nwide).reshape((-1, nwide))\n",
    "print(content.shape)\n",
    "\n",
    "#awk_vector = JaggedWithLorentz.fromcounts(counts, uproot_methods.TLorentzVectorArray(content[:,0],\n",
    "#                                                                                     content[:,1],\n",
    "#                                                                                     content[:,2],\n",
    "#                                                                                     content[:,3]))\n",
    "awk_vector = awkward.JaggedArray.fromcounts(counts,content)\n",
    "\n",
    "\n",
    "print(awk_vector)\n"
   ]
  },
  {
   "cell_type": "code",
   "execution_count": 24,
   "metadata": {},
   "outputs": [
    {
     "name": "stdout",
     "output_type": "stream",
     "text": [
      "[[] [[ 1.04207277  0.1267892   0.92282871  0.09448219]\n",
      " [-0.29999851  0.27206072 -0.0161241  -0.57967003]\n",
      " [ 1.30875069 -0.05433927 -0.05991065  1.32216588]\n",
      " [-0.64690012  2.15030163 -0.01200628 -1.4149374 ]] [] ... [[-0.88807425  0.48696454 -0.85691186 -1.28675248]\n",
      " [-0.45752417  0.71110524 -0.98889041  1.74406337]\n",
      " [-0.06262356  0.02991623  0.64694375  1.55028643]] [[ 1.37035845  0.77993088  0.30737432 -0.44359613]] []] \n",
      "\n",
      " <class 'awkward.array.jagged.JaggedArray'>\n"
     ]
    }
   ],
   "source": [
    "print(awk_vector,'\\n\\n', awkward.array.jagged.JaggedArray)"
   ]
  },
  {
   "cell_type": "code",
   "execution_count": 25,
   "metadata": {},
   "outputs": [],
   "source": [
    "# force pre-compilation of numba functions\n",
    "_ = py_comb_fast(awk_vector)\n",
    "\n",
    "#%timeit awk_comb(awk_vector)\n",
    "#%timeit py_comb(awk_vector)\n",
    "#%timeit py_comb_fast(awk_vector)\n",
    "#%timeit comb_fast(awk_vector.counts, awk_vector.content)"
   ]
  },
  {
   "cell_type": "code",
   "execution_count": 26,
   "metadata": {},
   "outputs": [],
   "source": [
    "import weights as weights\n",
    "import pickle\n",
    "import zlib\n",
    "import numpy as np\n",
    "\n",
    "# import a bunch of correction histograms\n",
    "weightsext = weights.extractor()\n",
    "correctionDescriptions = open(\"newCorrectionFiles.txt\").readlines()\n",
    "weightsext.add_weight_sets(correctionDescriptions)\n",
    "weightsext.finalize()\n",
    "weights_eval = weightsext.make_evaluator()"
   ]
  },
  {
   "cell_type": "code",
   "execution_count": 27,
   "metadata": {},
   "outputs": [
    {
     "name": "stdout",
     "output_type": "stream",
     "text": [
      "(155044,)\n",
      "[<JaggedArray [[] [ 0.66024152 -0.03978214 -0.0456898  -0.00534674] [] ... [-0.64590175 -0.76003238  0.99429498] [0.19133867] []] at 000619800b90>, <JaggedArray [[] [1.04975767 0.40498907 1.30987829 2.24550148] [] ... [1.01282295 0.84557615 0.06940239] [1.57676075] []] at 000619800c50>]\n",
      "\n",
      "0 <class 'awkward.array.jagged.JaggedArray'>\n",
      "<type 'numpy.ndarray'>\n",
      "1 <class 'awkward.array.jagged.JaggedArray'>\n",
      "<type 'numpy.ndarray'>\n",
      "[-2.5   -2.    -1.566 -1.444 -0.8    0.     0.8    1.444  1.566  2.\n",
      "  2.5  ] (5, 10)\n",
      "[ 20.  35.  50.  90. 150. 500.] (5, 10)\n",
      "[[] [0.96595746 0.9631728  0.9631728  0.9631728 ] [] ... [0.9631728  0.9631728  0.97834915] [0.96595746] []]\n",
      "\n",
      "155044   155044\n"
     ]
    }
   ],
   "source": [
    "content = np.random.normal(size=np.sum(counts))\n",
    "print(content.shape)\n",
    "\n",
    "awk_scalar = awkward.JaggedArray.fromcounts(counts, content)\n",
    "\n",
    "#now calculate the SFs\n",
    "pts = p4_pt(awk_vector)\n",
    "etas = p4_eta(awk_vector)\n",
    "awk_scalefacts = weights_eval[\"phoScaleFactor_MediumId_POG\"](etas,pts)\n",
    "\n",
    "print(np.sum(awk_scalar.counts),' ', np.sum(awk_scalefacts.counts))"
   ]
  },
  {
   "cell_type": "code",
   "execution_count": 8,
   "metadata": {},
   "outputs": [],
   "source": [
    "# force pre-compilation of numba functions\n",
    "_ = py_comb_fast(awk_scalar)\n",
    "\n",
    "#%timeit awk_comb(awk_scalar)\n",
    "#%timeit py_comb(awk_scalar)\n",
    "#%timeit py_comb_fast(awk_scalar)\n",
    "#%timeit comb_fast(awk_scalar.counts, awk_scalar.content)"
   ]
  },
  {
   "cell_type": "code",
   "execution_count": 9,
   "metadata": {},
   "outputs": [
    {
     "data": {
      "text/plain": [
       "(70,)"
      ]
     },
     "execution_count": 9,
     "metadata": {},
     "output_type": "execute_result"
    }
   ],
   "source": [
    "pairs = awk_vector[awk_scalar>2].pairs(same=False)\n",
    "psum = np.sum((pairs[\"0\"]+pairs[\"1\"]).flatten(), axis=1)\n",
    "psum.shape"
   ]
  },
  {
   "cell_type": "code",
   "execution_count": null,
   "metadata": {},
   "outputs": [],
   "source": []
  },
  {
   "cell_type": "code",
   "execution_count": 13,
   "metadata": {},
   "outputs": [
    {
     "name": "stdout",
     "output_type": "stream",
     "text": [
      "<class 'awkward.array.jagged.JaggedArray'>\n"
     ]
    }
   ],
   "source": [
    "awk_table = awkward.JaggedArray.fromcounts(counts, awkward.Table({'p4': awk_vector.content, \n",
    "                                                                  'mva': awk_scalar.content,\n",
    "                                                                  'SF': awk_scalefacts.content}))\n",
    "print(type(awk_table))"
   ]
  },
  {
   "cell_type": "code",
   "execution_count": 19,
   "metadata": {},
   "outputs": [
    {
     "name": "stdout",
     "output_type": "stream",
     "text": [
      "[[[ 0.08844541 -1.66709033 -0.39556349  1.08641194]] [] [] ... [] [] []]\n",
      "[[0.9631728] [] [] ... [] [] []]\n",
      "[[0.9744624] [] [] ... [] [] []]\n",
      "[[0.9385757] [] [] ... [] [] []]\n"
     ]
    }
   ],
   "source": [
    "cands = awk_table.filter(lambda e: e[\"mva\"] > 0.1).pairs(same=False)\n",
    "print(cands['0']['p4'])\n",
    "print(cands['0']['SF'])\n",
    "print(cands['1']['SF'])\n",
    "print(cands['0']['SF']*cands['1']['SF'])"
   ]
  },
  {
   "cell_type": "code",
   "execution_count": null,
   "metadata": {},
   "outputs": [],
   "source": [
    "out = cands[cands['0']['mva'] > cands['1']['mva']].apply(lambda p: p['0']['p4'] + p['1']['p4'])\n",
    "out_flat = out.flatten()"
   ]
  },
  {
   "cell_type": "code",
   "execution_count": null,
   "metadata": {},
   "outputs": [],
   "source": [
    "print(cands[\"0\"][\"p4\"].flatten())\n",
    "print(type(out_flat))\n",
    "pts_flat = p4_pt(cands[\"0\"][\"p4\"].flatten())\n",
    "etas_firsts_flat = p4_eta(cands[\"0\"][\"p4\"].flatten())\n",
    "pts_seconds_flat = p4_pt(cands[\"1\"][\"p4\"].flatten())\n",
    "etas_seconds_flat = p4_eta(cands[\"1\"][\"p4\"].flatten())\n",
    "print('try flat eval')\n",
    "weights_flat = weights_eval[\"phoScaleFactor_MediumId_POG\"](etas_flat,pts_flat)\n",
    "print('try jagged eval')\n",
    "\n",
    "print('pts',type(pts),'\\n',pts_flat,'\\n',pts.counts,'\\n',pts.flatten())\n",
    "print('etas',type(etas),'\\n',etas_flat,'\\n',etas.counts,'\\n',etas.flatten())\n",
    "print('flat weights:\\n',type(weights_flat),'\\n',weights_flat)\n",
    "print('jagged weights:\\n',type(weights_jagged),'\\n',weights_jagged.flatten())"
   ]
  },
  {
   "cell_type": "code",
   "execution_count": null,
   "metadata": {},
   "outputs": [],
   "source": [
    "physt.h1(t.array(\"muonp4\")                          # get the muon 4-vectors\n",
    "          .filter(lambda muon: abs(muon.eta) < 1)   # select central muons (select particles, not events)\n",
    "          .pairs(same=False)                        # form all non-duplicate pairs\n",
    "          .apply(lambda a, b: a + b)                # compute Z candidates from as 4-vector sums\n",
    "          .maxby(lambda z: z.pt)                    # select one per event, the highest pT\n",
    "          .flatten()                                # flatten [x] → x and [] → nothing (ignore empty events)\n",
    "          .mass,                                    # compute the masses of what remains\n",
    "         bins=100).plot()"
   ]
  },
  {
   "cell_type": "code",
   "execution_count": null,
   "metadata": {},
   "outputs": [],
   "source": []
  }
 ],
 "metadata": {
  "kernelspec": {
   "display_name": "Python 2",
   "language": "python",
   "name": "python2"
  },
  "language_info": {
   "codemirror_mode": {
    "name": "ipython",
    "version": 2
   },
   "file_extension": ".py",
   "mimetype": "text/x-python",
   "name": "python",
   "nbconvert_exporter": "python",
   "pygments_lexer": "ipython2",
   "version": "2.7.15"
  }
 },
 "nbformat": 4,
 "nbformat_minor": 2
}
