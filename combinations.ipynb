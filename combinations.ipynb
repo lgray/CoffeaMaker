{
 "cells": [
  {
   "cell_type": "code",
   "execution_count": 1,
   "metadata": {},
   "outputs": [],
   "source": [
    "from __future__ import print_function\n",
    "import numpy as np\n",
    "import numba\n",
    "import awkward\n",
    "import uproot_methods\n",
    "\n",
    "JaggedWithLorentz = awkward.Methods.mixin(uproot_methods.classes.TLorentzVector.ArrayMethods, awkward.JaggedArray)\n",
    "\n",
    "np.random.seed(4)\n",
    "nrows = 100000\n",
    "\n",
    "def p4_pt(p4):\n",
    "    # p4 is [n,4] numpy array\n",
    "    # returns [n] numpy array\n",
    "    if isinstance(p4, awkward.array.jagged.JaggedArray):\n",
    "        outjagged = p4.flatten()\n",
    "        outjagged = np.sqrt(outjagged[:,0]**2 + outjagged[:,1]**2)\n",
    "        outjagged = awkward.array.jagged.JaggedArray.fromcounts(p4.counts,outjagged)\n",
    "        return outjagged\n",
    "    return np.sqrt(p4[:,0]**2 + p4[:,1]**2)\n",
    "\n",
    "def p4_eta(p4):\n",
    "    if isinstance(p4, awkward.array.jagged.JaggedArray):\n",
    "        temp = p4.flatten()\n",
    "        p42_temp = temp**2\n",
    "        p3_temp = np.sqrt(np.sum(p42_temp[:,:3], axis=-1))\n",
    "        outjagged = temp[:,2]/p3_temp\n",
    "        outjagged = awkward.array.jagged.JaggedArray.fromcounts(p4.counts,outjagged)\n",
    "        return outjagged\n",
    "    \n",
    "    p42 = p4**2\n",
    "    p3 = np.sqrt(np.sum(p42[:,:3], axis=-1))\n",
    "    return p4[:,2]/p3"
   ]
  },
  {
   "cell_type": "code",
   "execution_count": 2,
   "metadata": {},
   "outputs": [],
   "source": [
    "def comb(counts, content):    \n",
    "    out_counts = counts*(counts-1)//2\n",
    "    out = np.empty((np.sum(out_counts), ) + content.shape[1:])\n",
    "    i = 0\n",
    "    n = 0\n",
    "    for c in counts:\n",
    "        for i1 in range(i, i+c):\n",
    "            for i2 in range(i1+1, i+c):\n",
    "                out[n] = content[i1]+content[i2]\n",
    "                n += 1\n",
    "        i += c\n",
    "    return (out_counts, out)\n",
    "\n",
    "comb_fast = numba.njit(comb)\n",
    "\n",
    "def awk_comb(awk):\n",
    "    c = awk.pairs(same=False)\n",
    "    return c[\"0\"] + c[\"1\"]\n",
    "\n",
    "def py_comb(awk):\n",
    "    counts, content = comb(awk.counts, awk.content)\n",
    "    return awkward.JaggedArray.fromcounts(counts, content)\n",
    "\n",
    "def py_comb_fast(awk):\n",
    "    counts, content = comb_fast(awk.counts, awk.content)\n",
    "    return awkward.JaggedArray.fromcounts(counts, content)"
   ]
  },
  {
   "cell_type": "code",
   "execution_count": 3,
   "metadata": {},
   "outputs": [
    {
     "name": "stdout",
     "output_type": "stream",
     "text": [
      "(154681, 4)\n",
      "[[[ 0.82966453 -0.6493784   0.4638781   1.08256688]\n",
      " [ 0.42353076 -0.3056094  -1.89587598 -1.06317631]\n",
      " [ 0.00435886 -0.25589477 -0.41163191  0.22379419]\n",
      " [-0.22135075  0.44120887 -0.61399284  0.2242599 ]\n",
      " [ 0.51644472  0.25011381  1.05840583 -0.31042362]\n",
      " [-1.36356791 -1.50411469  0.20415976  0.27091941]] [[-0.55307481  0.52722201  0.2501546  -0.23382642]] [[-0.94890447  0.54689286 -0.669688    1.4998046 ]\n",
      " [ 0.11349835  2.47502909 -0.48507223 -1.38820333]\n",
      " [-1.18270866 -0.08598209  0.18268521  0.55910591]\n",
      " [-0.57820059 -0.90292866 -0.0556341  -0.46287223]\n",
      " [-0.05197759 -0.16675332 -1.39198953  0.27531389]\n",
      " [ 0.09409506 -0.67674997  0.22688327  0.39173521]\n",
      " [ 0.38476455  2.45429354 -0.43685351  1.45636854]] ... [] [] [[-0.40646968 -3.61691334  2.33074252  0.33312046]\n",
      " [ 1.38970752  0.52335243 -0.71255895 -0.3382541 ]\n",
      " [-1.2427996   1.70273496 -0.22219555 -0.13674452]\n",
      " [-1.16540572 -1.41314466  0.1183768   0.74704469]\n",
      " [ 2.08417771 -1.23632849 -0.13528222 -0.16965481]\n",
      " [ 2.68699331  0.6917534   0.00515727  0.26822383]]]\n"
     ]
    }
   ],
   "source": [
    "nwide = 4\n",
    "counts = np.minimum(np.random.exponential(2, size=nrows).astype(int), 20)\n",
    "content = np.random.normal(size=np.sum(counts)*nwide).reshape((-1, nwide))\n",
    "print(content.shape)\n",
    "\n",
    "#awk_vector = JaggedWithLorentz.fromcounts(counts, uproot_methods.TLorentzVectorArray(content[:,0],\n",
    "#                                                                                     content[:,1],\n",
    "#                                                                                     content[:,2],\n",
    "#                                                                                     content[:,3]))\n",
    "awk_vector = awkward.JaggedArray.fromcounts(counts,content)\n",
    "\n",
    "\n",
    "print(awk_vector)\n"
   ]
  },
  {
   "cell_type": "code",
   "execution_count": 4,
   "metadata": {},
   "outputs": [
    {
     "name": "stdout",
     "output_type": "stream",
     "text": [
      "[[[ 0.82966453 -0.6493784   0.4638781   1.08256688]\n",
      " [ 0.42353076 -0.3056094  -1.89587598 -1.06317631]\n",
      " [ 0.00435886 -0.25589477 -0.41163191  0.22379419]\n",
      " [-0.22135075  0.44120887 -0.61399284  0.2242599 ]\n",
      " [ 0.51644472  0.25011381  1.05840583 -0.31042362]\n",
      " [-1.36356791 -1.50411469  0.20415976  0.27091941]] [[-0.55307481  0.52722201  0.2501546  -0.23382642]] [[-0.94890447  0.54689286 -0.669688    1.4998046 ]\n",
      " [ 0.11349835  2.47502909 -0.48507223 -1.38820333]\n",
      " [-1.18270866 -0.08598209  0.18268521  0.55910591]\n",
      " [-0.57820059 -0.90292866 -0.0556341  -0.46287223]\n",
      " [-0.05197759 -0.16675332 -1.39198953  0.27531389]\n",
      " [ 0.09409506 -0.67674997  0.22688327  0.39173521]\n",
      " [ 0.38476455  2.45429354 -0.43685351  1.45636854]] ... [] [] [[-0.40646968 -3.61691334  2.33074252  0.33312046]\n",
      " [ 1.38970752  0.52335243 -0.71255895 -0.3382541 ]\n",
      " [-1.2427996   1.70273496 -0.22219555 -0.13674452]\n",
      " [-1.16540572 -1.41314466  0.1183768   0.74704469]\n",
      " [ 2.08417771 -1.23632849 -0.13528222 -0.16965481]\n",
      " [ 2.68699331  0.6917534   0.00515727  0.26822383]]] \n",
      "\n",
      " <class 'awkward.array.jagged.JaggedArray'>\n"
     ]
    }
   ],
   "source": [
    "print(awk_vector,'\\n\\n', awkward.array.jagged.JaggedArray)"
   ]
  },
  {
   "cell_type": "code",
   "execution_count": 5,
   "metadata": {},
   "outputs": [],
   "source": [
    "# force pre-compilation of numba functions\n",
    "_ = py_comb_fast(awk_vector)\n",
    "\n",
    "#%timeit awk_comb(awk_vector)\n",
    "#%timeit py_comb(awk_vector)\n",
    "#%timeit py_comb_fast(awk_vector)\n",
    "#%timeit comb_fast(awk_vector.counts, awk_vector.content)"
   ]
  },
  {
   "cell_type": "code",
   "execution_count": 6,
   "metadata": {},
   "outputs": [],
   "source": [
    "import weights as weights\n",
    "import pickle\n",
    "import zlib\n",
    "import numpy as np\n",
    "\n",
    "# import a bunch of correction histograms\n",
    "weightsext = weights.extractor()\n",
    "correctionDescriptions = open(\"newCorrectionFiles.txt\").readlines()\n",
    "weightsext.add_weight_sets(correctionDescriptions)\n",
    "weightsext.finalize()\n",
    "weights_eval = weightsext.make_evaluator()"
   ]
  },
  {
   "cell_type": "code",
   "execution_count": 7,
   "metadata": {},
   "outputs": [
    {
     "name": "stdout",
     "output_type": "stream",
     "text": [
      "(154681,)\n",
      "[<JaggedArray [[ 0.40295833 -0.96408658 -0.84923668 -0.77936412  0.87911131  0.10005716] [0.31113369] [-0.52166869 -0.19213312  0.1522606  -0.05181846 -0.99221919  0.31513985 -0.17319045] ... [] [] [ 0.5392747  -0.43261533 -0.10482289  0.06449198 -0.0557392   0.00185873]] at 00061543a390>, <JaggedArray [[1.05358224 0.52227905 0.25593189 0.49362072 0.57382233 2.03019173] [0.76410392] [1.09522212 2.47763009 1.18582995 1.07219219 0.17466637 0.68326012 2.48427062] ... [] [] [3.63968126 1.48498645 2.10804583 1.8317064  2.42328389 2.77460912]] at 0006141bce90>]\n",
      "\n",
      "0 <class 'awkward.array.jagged.JaggedArray'>\n",
      "<type 'numpy.ndarray'>\n",
      "1 <class 'awkward.array.jagged.JaggedArray'>\n",
      "<type 'numpy.ndarray'>\n",
      "[-2.5   -2.    -1.566 -1.444 -0.8    0.     0.8    1.444  1.566  2.\n",
      "  2.5  ] (5, 10)\n",
      "[ 20.  35.  50.  90. 150. 500.] (5, 10)\n",
      "[[0.96595746 0.9744624  0.9744624  0.9631728  0.97834915 0.96595746] [0.96595746] [0.9631728  0.9631728  0.96595746 0.9631728  0.9744624  0.96595746 0.9631728 ] ... [] [] [0.96595746 0.9631728  0.9631728  0.96595746 0.9631728  0.96595746]]\n",
      "\n",
      "154681   154681\n"
     ]
    }
   ],
   "source": [
    "content = np.random.normal(size=np.sum(counts))\n",
    "print(content.shape)\n",
    "\n",
    "awk_scalar = awkward.JaggedArray.fromcounts(counts, content)\n",
    "\n",
    "#now calculate the SFs\n",
    "pts = p4_pt(awk_vector)\n",
    "etas = p4_eta(awk_vector)\n",
    "awk_scalefacts = weights_eval[\"phoScaleFactor_MediumId_POG\"](etas,pts)\n",
    "\n",
    "print(np.sum(awk_scalar.counts),' ', np.sum(awk_scalefacts.counts))"
   ]
  },
  {
   "cell_type": "code",
   "execution_count": 8,
   "metadata": {},
   "outputs": [],
   "source": [
    "# force pre-compilation of numba functions\n",
    "_ = py_comb_fast(awk_scalar)\n",
    "\n",
    "#%timeit awk_comb(awk_scalar)\n",
    "#%timeit py_comb(awk_scalar)\n",
    "#%timeit py_comb_fast(awk_scalar)\n",
    "#%timeit comb_fast(awk_scalar.counts, awk_scalar.content)"
   ]
  },
  {
   "cell_type": "code",
   "execution_count": 9,
   "metadata": {},
   "outputs": [
    {
     "data": {
      "text/plain": [
       "(120,)"
      ]
     },
     "execution_count": 9,
     "metadata": {},
     "output_type": "execute_result"
    }
   ],
   "source": [
    "pairs = awk_vector[awk_scalar>2].pairs(same=False)\n",
    "psum = np.sum((pairs[\"0\"]+pairs[\"1\"]).flatten(), axis=1)\n",
    "psum.shape"
   ]
  },
  {
   "cell_type": "code",
   "execution_count": 10,
   "metadata": {},
   "outputs": [],
   "source": [
    "awk_table = awkward.JaggedArray.fromcounts(counts, awkward.Table({'p4': awk_vector.content, \n",
    "                                                                  'mva': awk_scalar.content,\n",
    "                                                                  'SF': awk_scalefacts.content}))"
   ]
  },
  {
   "cell_type": "code",
   "execution_count": 11,
   "metadata": {},
   "outputs": [
    {
     "name": "stdout",
     "output_type": "stream",
     "text": [
      "<class 'awkward.array.jagged.JaggedArray'>\n"
     ]
    },
    {
     "ename": "ValueError",
     "evalue": "operands could not be broadcast together with shapes (171936,) (171936,4) (171936,) ",
     "output_type": "error",
     "traceback": [
      "\u001b[0;31m---------------------------------------------------------------------------\u001b[0m",
      "\u001b[0;31mValueError\u001b[0m                                Traceback (most recent call last)",
      "\u001b[0;32m<ipython-input-11-538558dee50c>\u001b[0m in \u001b[0;36m<module>\u001b[0;34m()\u001b[0m\n\u001b[1;32m      6\u001b[0m \u001b[0;34m\u001b[0m\u001b[0m\n\u001b[1;32m      7\u001b[0m \u001b[0mcross_test2\u001b[0m \u001b[0;34m=\u001b[0m \u001b[0msel_muons1\u001b[0m\u001b[0;34m.\u001b[0m\u001b[0mcross\u001b[0m\u001b[0;34m(\u001b[0m\u001b[0msel_muons2\u001b[0m\u001b[0;34m)\u001b[0m\u001b[0;34m\u001b[0m\u001b[0m\n\u001b[0;32m----> 8\u001b[0;31m \u001b[0mcross_test2\u001b[0m \u001b[0;34m=\u001b[0m \u001b[0mcross_test2\u001b[0m\u001b[0;34m.\u001b[0m\u001b[0mfilter\u001b[0m\u001b[0;34m(\u001b[0m\u001b[0;32mlambda\u001b[0m \u001b[0me\u001b[0m\u001b[0;34m:\u001b[0m \u001b[0me\u001b[0m\u001b[0;34m[\u001b[0m\u001b[0;34m'0'\u001b[0m\u001b[0;34m]\u001b[0m \u001b[0;34m!=\u001b[0m \u001b[0me\u001b[0m\u001b[0;34m[\u001b[0m\u001b[0;34m'1'\u001b[0m\u001b[0;34m]\u001b[0m\u001b[0;34m)\u001b[0m\u001b[0;34m\u001b[0m\u001b[0m\n\u001b[0m\u001b[1;32m      9\u001b[0m \u001b[0;34m\u001b[0m\u001b[0m\n\u001b[1;32m     10\u001b[0m \u001b[0mcross_test3\u001b[0m \u001b[0;34m=\u001b[0m \u001b[0msel_muons1\u001b[0m\u001b[0;34m.\u001b[0m\u001b[0mcross\u001b[0m\u001b[0;34m(\u001b[0m\u001b[0msel_muons2\u001b[0m\u001b[0;34m)\u001b[0m\u001b[0;34m.\u001b[0m\u001b[0mcross\u001b[0m\u001b[0;34m(\u001b[0m\u001b[0msel_muons3\u001b[0m\u001b[0;34m)\u001b[0m\u001b[0;34m\u001b[0m\u001b[0m\n",
      "\u001b[0;32m/Users/lagray/.local/lib/python2.7/site-packages/awkward/array/base.pyc\u001b[0m in \u001b[0;36mfilter\u001b[0;34m(self, function)\u001b[0m\n\u001b[1;32m    174\u001b[0m         \u001b[0margs\u001b[0m\u001b[0;34m,\u001b[0m \u001b[0mkwargs\u001b[0m \u001b[0;34m=\u001b[0m \u001b[0mself\u001b[0m\u001b[0;34m.\u001b[0m\u001b[0m_argfields\u001b[0m\u001b[0;34m(\u001b[0m\u001b[0mfunction\u001b[0m\u001b[0;34m)\u001b[0m\u001b[0;34m\u001b[0m\u001b[0m\n\u001b[1;32m    175\u001b[0m         \u001b[0;32mif\u001b[0m \u001b[0margs\u001b[0m \u001b[0;32mis\u001b[0m \u001b[0mNone\u001b[0m \u001b[0;32mand\u001b[0m \u001b[0mkwargs\u001b[0m \u001b[0;32mis\u001b[0m \u001b[0mNone\u001b[0m\u001b[0;34m:\u001b[0m\u001b[0;34m\u001b[0m\u001b[0m\n\u001b[0;32m--> 176\u001b[0;31m             \u001b[0;32mreturn\u001b[0m \u001b[0mself\u001b[0m\u001b[0;34m[\u001b[0m\u001b[0mfunction\u001b[0m\u001b[0;34m(\u001b[0m\u001b[0mself\u001b[0m\u001b[0;34m)\u001b[0m\u001b[0;34m]\u001b[0m\u001b[0;34m\u001b[0m\u001b[0m\n\u001b[0m\u001b[1;32m    177\u001b[0m         \u001b[0;32melse\u001b[0m\u001b[0;34m:\u001b[0m\u001b[0;34m\u001b[0m\u001b[0m\n\u001b[1;32m    178\u001b[0m             \u001b[0margs\u001b[0m \u001b[0;34m=\u001b[0m \u001b[0mtuple\u001b[0m\u001b[0;34m(\u001b[0m\u001b[0mself\u001b[0m\u001b[0;34m[\u001b[0m\u001b[0mn\u001b[0m\u001b[0;34m]\u001b[0m \u001b[0;32mfor\u001b[0m \u001b[0mn\u001b[0m \u001b[0;32min\u001b[0m \u001b[0margs\u001b[0m\u001b[0;34m)\u001b[0m\u001b[0;34m\u001b[0m\u001b[0m\n",
      "\u001b[0;32m<ipython-input-11-538558dee50c>\u001b[0m in \u001b[0;36m<lambda>\u001b[0;34m(e)\u001b[0m\n\u001b[1;32m      6\u001b[0m \u001b[0;34m\u001b[0m\u001b[0m\n\u001b[1;32m      7\u001b[0m \u001b[0mcross_test2\u001b[0m \u001b[0;34m=\u001b[0m \u001b[0msel_muons1\u001b[0m\u001b[0;34m.\u001b[0m\u001b[0mcross\u001b[0m\u001b[0;34m(\u001b[0m\u001b[0msel_muons2\u001b[0m\u001b[0;34m)\u001b[0m\u001b[0;34m\u001b[0m\u001b[0m\n\u001b[0;32m----> 8\u001b[0;31m \u001b[0mcross_test2\u001b[0m \u001b[0;34m=\u001b[0m \u001b[0mcross_test2\u001b[0m\u001b[0;34m.\u001b[0m\u001b[0mfilter\u001b[0m\u001b[0;34m(\u001b[0m\u001b[0;32mlambda\u001b[0m \u001b[0me\u001b[0m\u001b[0;34m:\u001b[0m \u001b[0me\u001b[0m\u001b[0;34m[\u001b[0m\u001b[0;34m'0'\u001b[0m\u001b[0;34m]\u001b[0m \u001b[0;34m!=\u001b[0m \u001b[0me\u001b[0m\u001b[0;34m[\u001b[0m\u001b[0;34m'1'\u001b[0m\u001b[0;34m]\u001b[0m\u001b[0;34m)\u001b[0m\u001b[0;34m\u001b[0m\u001b[0m\n\u001b[0m\u001b[1;32m      9\u001b[0m \u001b[0;34m\u001b[0m\u001b[0m\n\u001b[1;32m     10\u001b[0m \u001b[0mcross_test3\u001b[0m \u001b[0;34m=\u001b[0m \u001b[0msel_muons1\u001b[0m\u001b[0;34m.\u001b[0m\u001b[0mcross\u001b[0m\u001b[0;34m(\u001b[0m\u001b[0msel_muons2\u001b[0m\u001b[0;34m)\u001b[0m\u001b[0;34m.\u001b[0m\u001b[0mcross\u001b[0m\u001b[0;34m(\u001b[0m\u001b[0msel_muons3\u001b[0m\u001b[0;34m)\u001b[0m\u001b[0;34m\u001b[0m\u001b[0m\n",
      "\u001b[0;32m/anaconda2/lib/python2.7/site-packages/numpy/lib/mixins.pyc\u001b[0m in \u001b[0;36mfunc\u001b[0;34m(self, other)\u001b[0m\n\u001b[1;32m     23\u001b[0m         \u001b[0;32mif\u001b[0m \u001b[0m_disables_array_ufunc\u001b[0m\u001b[0;34m(\u001b[0m\u001b[0mother\u001b[0m\u001b[0;34m)\u001b[0m\u001b[0;34m:\u001b[0m\u001b[0;34m\u001b[0m\u001b[0m\n\u001b[1;32m     24\u001b[0m             \u001b[0;32mreturn\u001b[0m \u001b[0mNotImplemented\u001b[0m\u001b[0;34m\u001b[0m\u001b[0m\n\u001b[0;32m---> 25\u001b[0;31m         \u001b[0;32mreturn\u001b[0m \u001b[0mufunc\u001b[0m\u001b[0;34m(\u001b[0m\u001b[0mself\u001b[0m\u001b[0;34m,\u001b[0m \u001b[0mother\u001b[0m\u001b[0;34m)\u001b[0m\u001b[0;34m\u001b[0m\u001b[0m\n\u001b[0m\u001b[1;32m     26\u001b[0m     \u001b[0mfunc\u001b[0m\u001b[0;34m.\u001b[0m\u001b[0m__name__\u001b[0m \u001b[0;34m=\u001b[0m \u001b[0;34m'__{}__'\u001b[0m\u001b[0;34m.\u001b[0m\u001b[0mformat\u001b[0m\u001b[0;34m(\u001b[0m\u001b[0mname\u001b[0m\u001b[0;34m)\u001b[0m\u001b[0;34m\u001b[0m\u001b[0m\n\u001b[1;32m     27\u001b[0m     \u001b[0;32mreturn\u001b[0m \u001b[0mfunc\u001b[0m\u001b[0;34m\u001b[0m\u001b[0m\n",
      "\u001b[0;32m/Users/lagray/.local/lib/python2.7/site-packages/awkward/array/jagged.pyc\u001b[0m in \u001b[0;36m__array_ufunc__\u001b[0;34m(self, ufunc, method, *inputs, **kwargs)\u001b[0m\n\u001b[1;32m    668\u001b[0m                 \u001b[0minputs\u001b[0m\u001b[0;34m[\u001b[0m\u001b[0mi\u001b[0m\u001b[0;34m]\u001b[0m \u001b[0;34m=\u001b[0m \u001b[0minputs\u001b[0m\u001b[0;34m[\u001b[0m\u001b[0mi\u001b[0m\u001b[0;34m]\u001b[0m\u001b[0;34m.\u001b[0m\u001b[0mflatten\u001b[0m\u001b[0;34m(\u001b[0m\u001b[0;34m)\u001b[0m\u001b[0;34m\u001b[0m\u001b[0m\n\u001b[1;32m    669\u001b[0m \u001b[0;34m\u001b[0m\u001b[0m\n\u001b[0;32m--> 670\u001b[0;31m         \u001b[0mresult\u001b[0m \u001b[0;34m=\u001b[0m \u001b[0mgetattr\u001b[0m\u001b[0;34m(\u001b[0m\u001b[0mufunc\u001b[0m\u001b[0;34m,\u001b[0m \u001b[0mmethod\u001b[0m\u001b[0;34m)\u001b[0m\u001b[0;34m(\u001b[0m\u001b[0;34m*\u001b[0m\u001b[0minputs\u001b[0m\u001b[0;34m,\u001b[0m \u001b[0;34m**\u001b[0m\u001b[0mkwargs\u001b[0m\u001b[0;34m)\u001b[0m\u001b[0;34m\u001b[0m\u001b[0m\n\u001b[0m\u001b[1;32m    671\u001b[0m \u001b[0;34m\u001b[0m\u001b[0m\n\u001b[1;32m    672\u001b[0m         \u001b[0mcounts\u001b[0m \u001b[0;34m=\u001b[0m \u001b[0mstops\u001b[0m \u001b[0;34m-\u001b[0m \u001b[0mstarts\u001b[0m\u001b[0;34m\u001b[0m\u001b[0m\n",
      "\u001b[0;32m/Users/lagray/.local/lib/python2.7/site-packages/awkward/array/table.pyc\u001b[0m in \u001b[0;36m__array_ufunc__\u001b[0;34m(self, ufunc, method, *inputs, **kwargs)\u001b[0m\n\u001b[1;32m    569\u001b[0m                     \u001b[0mout\u001b[0m \u001b[0;34m=\u001b[0m \u001b[0mx\u001b[0m\u001b[0;34m\u001b[0m\u001b[0m\n\u001b[1;32m    570\u001b[0m                 \u001b[0;32melse\u001b[0m\u001b[0;34m:\u001b[0m\u001b[0;34m\u001b[0m\u001b[0m\n\u001b[0;32m--> 571\u001b[0;31m                     \u001b[0mout\u001b[0m \u001b[0;34m=\u001b[0m \u001b[0mawkward\u001b[0m\u001b[0;34m.\u001b[0m\u001b[0mutil\u001b[0m\u001b[0;34m.\u001b[0m\u001b[0mnumpy\u001b[0m\u001b[0;34m.\u001b[0m\u001b[0mbitwise_and\u001b[0m\u001b[0;34m(\u001b[0m\u001b[0mout\u001b[0m\u001b[0;34m,\u001b[0m \u001b[0mx\u001b[0m\u001b[0;34m,\u001b[0m \u001b[0mout\u001b[0m\u001b[0;34m=\u001b[0m\u001b[0mout\u001b[0m\u001b[0;34m)\u001b[0m\u001b[0;34m\u001b[0m\u001b[0m\n\u001b[0m\u001b[1;32m    572\u001b[0m             \u001b[0;32massert\u001b[0m \u001b[0mout\u001b[0m \u001b[0;32mis\u001b[0m \u001b[0;32mnot\u001b[0m \u001b[0mNone\u001b[0m\u001b[0;34m\u001b[0m\u001b[0m\n\u001b[1;32m    573\u001b[0m             \u001b[0;32mreturn\u001b[0m \u001b[0mout\u001b[0m\u001b[0;34m\u001b[0m\u001b[0m\n",
      "\u001b[0;31mValueError\u001b[0m: operands could not be broadcast together with shapes (171936,) (171936,4) (171936,) "
     ]
    }
   ],
   "source": [
    "print(type(awk_table))\n",
    "\n",
    "sel_muons1 = awk_table.filter(lambda e: e[\"mva\"] > 0.1)\n",
    "sel_muons2 = awk_table.filter(lambda e: e[\"mva\"] > 0.1)\n",
    "sel_muons3 = awk_table.filter(lambda e: e[\"mva\"] > 0.1)\n",
    "\n",
    "cross_test2 = sel_muons1.cross(sel_muons2)\n",
    "cross_test2 = cross_test2.filter(lambda e: e['0'] != e['1'])\n",
    "\n",
    "cross_test3 = sel_muons1.cross(sel_muons2).cross(sel_muons3)\n",
    "\n",
    "print(sel_muons1,'\\n',sel_muons2,'\\n',sel_muons3)\n",
    "print(cross_test2)\n",
    "print(cross_test3)"
   ]
  },
  {
   "cell_type": "code",
   "execution_count": null,
   "metadata": {},
   "outputs": [],
   "source": [
    "cands = awk_table.filter(lambda e: e[\"mva\"] > 0.1).pairs(same=False)\n",
    "print(cands['0']['p4'])\n",
    "print(cands['0']['SF'])\n",
    "print(cands['1']['SF'])\n",
    "print(cands['0']['SF']*cands['1']['SF'])"
   ]
  },
  {
   "cell_type": "code",
   "execution_count": null,
   "metadata": {},
   "outputs": [],
   "source": [
    "out = cands[cands['0']['mva'] > cands['1']['mva']].apply(lambda p: p['0']['p4'] + p['1']['p4'])\n",
    "out_flat = out.flatten()"
   ]
  },
  {
   "cell_type": "code",
   "execution_count": null,
   "metadata": {},
   "outputs": [],
   "source": [
    "print(cands[\"0\"][\"p4\"].flatten())\n",
    "print(type(out_flat))\n",
    "pts_flat = p4_pt(cands[\"0\"][\"p4\"].flatten())\n",
    "etas_firsts_flat = p4_eta(cands[\"0\"][\"p4\"].flatten())\n",
    "pts_seconds_flat = p4_pt(cands[\"1\"][\"p4\"].flatten())\n",
    "etas_seconds_flat = p4_eta(cands[\"1\"][\"p4\"].flatten())\n",
    "print('try flat eval')\n",
    "weights_flat = weights_eval[\"phoScaleFactor_MediumId_POG\"](etas_flat,pts_flat)\n",
    "print('try jagged eval')\n",
    "\n",
    "print('pts',type(pts),'\\n',pts_flat,'\\n',pts.counts,'\\n',pts.flatten())\n",
    "print('etas',type(etas),'\\n',etas_flat,'\\n',etas.counts,'\\n',etas.flatten())\n",
    "print('flat weights:\\n',type(weights_flat),'\\n',weights_flat)\n",
    "print('jagged weights:\\n',type(weights_jagged),'\\n',weights_jagged.flatten())"
   ]
  },
  {
   "cell_type": "code",
   "execution_count": null,
   "metadata": {},
   "outputs": [],
   "source": [
    "physt.h1(t.array(\"muonp4\")                          # get the muon 4-vectors\n",
    "          .filter(lambda muon: abs(muon.eta) < 1)   # select central muons (select particles, not events)\n",
    "          .pairs(same=False)                        # form all non-duplicate pairs\n",
    "          .apply(lambda a, b: a + b)                # compute Z candidates from as 4-vector sums\n",
    "          .maxby(lambda z: z.pt)                    # select one per event, the highest pT\n",
    "          .flatten()                                # flatten [x] → x and [] → nothing (ignore empty events)\n",
    "          .mass,                                    # compute the masses of what remains\n",
    "         bins=100).plot()"
   ]
  },
  {
   "cell_type": "code",
   "execution_count": null,
   "metadata": {},
   "outputs": [],
   "source": []
  }
 ],
 "metadata": {
  "kernelspec": {
   "display_name": "Python 2",
   "language": "python",
   "name": "python2"
  },
  "language_info": {
   "codemirror_mode": {
    "name": "ipython",
    "version": 2
   },
   "file_extension": ".py",
   "mimetype": "text/x-python",
   "name": "python",
   "nbconvert_exporter": "python",
   "pygments_lexer": "ipython2",
   "version": "2.7.15"
  }
 },
 "nbformat": 4,
 "nbformat_minor": 2
}
