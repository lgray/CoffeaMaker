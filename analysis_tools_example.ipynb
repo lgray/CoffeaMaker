{
 "cells": [
  {
   "cell_type": "code",
   "execution_count": 1,
   "metadata": {},
   "outputs": [],
   "source": [
    "#essential tools\n",
    "from __future__ import print_function\n",
    "import numpy as np\n",
    "import awkward\n",
    "import uproot_methods"
   ]
  },
  {
   "cell_type": "code",
   "execution_count": 2,
   "metadata": {},
   "outputs": [],
   "source": [
    "# convenience feature 1: numpythonic weights and corrections \n",
    "# (this package name needs to change)\n",
    "import fnal_column_analysis_tools.lookup_tools as lookup_tools\n",
    "# convenience feature 2: a nice wrapper to dress up awkward tables as canonical \"analysis objects\"\n",
    "# with access patterns like object.p4.pt or object.scaleFactor, etc.\n",
    "# (this package name needs to be more descriptive)\n",
    "from fnal_column_analysis_tools.analysis_objects import JaggedDecoratedFourVector, JaggedWithLorentz"
   ]
  },
  {
   "cell_type": "code",
   "execution_count": 3,
   "metadata": {},
   "outputs": [],
   "source": [
    "# import a bunch of correction histograms\n",
    "# wrapped in numpythonic interface\n",
    "weights_ext = lookup_tools.extractor()\n",
    "correction_data = open(\"newCorrectionFiles.txt\").readlines()\n",
    "weights_ext.add_weight_sets(correction_data)\n",
    "weights_ext.finalize()\n",
    "weights_eval = weights_ext.make_evaluator()\n",
    "#what scale factors / corrections do we have available? (uncomment to dump this)\n",
    "#dir(weights_eval)"
   ]
  },
  {
   "cell_type": "code",
   "execution_count": 4,
   "metadata": {},
   "outputs": [],
   "source": [
    "#let's create some fake data\n",
    "np.random.seed(4)\n",
    "nrows = 100000\n",
    "\n",
    "nwide = 4\n",
    "\n",
    "counts1 = np.minimum(np.random.exponential(0.5, size=nrows).astype(int), 20)\n",
    "counts2 = np.minimum(np.random.exponential(0.5, size=nrows).astype(int), 20)\n",
    "content1_pxy = np.random.normal(loc=20.0,scale=5.0,size=np.sum(counts1)*2).reshape((-1, 2))\n",
    "content2_pxy = np.random.normal(loc=20.0,scale=5.0,size=np.sum(counts2)*2).reshape((-1, 2))\n",
    "content1_z = np.random.normal(loc=0, scale=55, size=np.sum(counts1))\n",
    "content2_z = np.random.normal(loc=0, scale=55, size=np.sum(counts2))\n",
    "awk_vector1 = JaggedWithLorentz.fromcounts(counts1,uproot_methods.TLorentzVectorArray(content1_pxy[:,0],\n",
    "                                                                                      content1_pxy[:,1],\n",
    "                                                                                      content1_z[:],\n",
    "                                                                                      np.sqrt(content1_pxy[:,0]**2 + \n",
    "                                                                                              content1_pxy[:,1]**2 + \n",
    "                                                                                              content1_z[:]**2 )))\n",
    "awk_vector2 = JaggedWithLorentz.fromcounts(counts2,uproot_methods.TLorentzVectorArray(content2_pxy[:,0],\n",
    "                                                                                      content2_pxy[:,1],\n",
    "                                                                                      content2_z[:],\n",
    "                                                                                      np.sqrt(content2_pxy[:,0]**2 + \n",
    "                                                                                              content2_pxy[:,1]**2 + \n",
    "                                                                                              content2_z[:]**2 )))\n",
    "\n",
    "content1 = np.random.normal(size=np.sum(counts1))\n",
    "content2 = np.random.normal(size=np.sum(counts2))\n",
    "awk_scalar1 = awkward.JaggedArray.fromcounts(counts1, content1)\n",
    "awk_scalar2 = awkward.JaggedArray.fromcounts(counts2, content2)"
   ]
  },
  {
   "cell_type": "code",
   "execution_count": 5,
   "metadata": {},
   "outputs": [],
   "source": [
    "#make the basic tables of \"muons\" and \"electrons\"\n",
    "muons = JaggedDecoratedFourVector.fromcounts(counts1,\n",
    "                                             p4 = awk_vector1.content,\n",
    "                                             mva1 =  awk_scalar1.content,\n",
    "                                             )\n",
    "electrons = JaggedDecoratedFourVector.fromcounts(counts2,\n",
    "                                                 p4 = awk_vector2.content,\n",
    "                                                 mva2 = awk_scalar2.content,\n",
    "                                                 )"
   ]
  },
  {
   "cell_type": "code",
   "execution_count": 6,
   "metadata": {},
   "outputs": [],
   "source": [
    "# we're going to want muon and electron scale factors\n",
    "# let's figure out how they're indexed! (uncomment to see)\n",
    "#print(weights_eval[\"muScaleFactor_MediumId_Iso\"])\n",
    "#print(weights_eval[\"eleScaleFactor_MediumId_MVA_POG\"])"
   ]
  },
  {
   "cell_type": "code",
   "execution_count": 7,
   "metadata": {},
   "outputs": [],
   "source": [
    "#apply the previously loaded scale factors for the \"muons\" and \"electrons\"\n",
    "#and put them in the objects\n",
    "# we need the |eta| of the muons for their scale factors, maybe we should add this to TLorentzVector?\n",
    "muons[\"SF\"] = weights_eval[\"muScaleFactor_MediumId_Iso\"](np.absolute(muons.p4.eta),muons.p4.pt)\n",
    "electrons[\"SF\"] = weights_eval[\"eleScaleFactor_MediumId_MVA_POG\"](electrons.p4.eta,electrons.p4.pt)"
   ]
  },
  {
   "cell_type": "code",
   "execution_count": 8,
   "metadata": {},
   "outputs": [
    {
     "data": {
      "text/plain": [
       "<JaggedArray [[False] [] [ True] ... [] [] [ True]] at 00011ca271d0>"
      ]
     },
     "execution_count": 8,
     "metadata": {},
     "output_type": "execute_result"
    }
   ],
   "source": [
    "(muons.p4.pt > 5) & (np.abs(muons.p4.eta) < 1.5)"
   ]
  },
  {
   "cell_type": "code",
   "execution_count": null,
   "metadata": {},
   "outputs": [],
   "source": []
  },
  {
   "cell_type": "code",
   "execution_count": 9,
   "metadata": {},
   "outputs": [],
   "source": [
    "#make analysis selections\n",
    "selected_muons = muons[(muons.p4.pt > 5) & (np.absolute(muons.p4.eta) < 1.5)]\n",
    "selected_electrons = electrons[electrons.p4.pt > 5]\n",
    "dileptons = selected_muons.cross(selected_electrons)\n",
    "selected_dileptons = dileptons[dileptons.p4.mass > 5]"
   ]
  },
  {
   "cell_type": "code",
   "execution_count": 10,
   "metadata": {},
   "outputs": [
    {
     "data": {
      "application/javascript": [
       "var spec = {\"$schema\": \"https://vega.github.io/schema/vega-lite/v2.json\", \"encoding\": {\"y\": {\"field\": \"a1\", \"type\": \"quantitative\", \"axis\": {\"title\": \"entries per bin\"}}, \"x\": {\"field\": \"a0\", \"scale\": {\"zero\": false}, \"type\": \"quantitative\", \"axis\": {\"title\": \"m_ll\"}}}, \"data\": {\"values\": [{\"a1\": 0.0, \"a0\": 5.0}, {\"a1\": 27.961707651615143, \"a0\": 5.0000000145}, {\"a1\": 30.59244555234909, \"a0\": 6.0}, {\"a1\": 21.41102486848831, \"a0\": 7.0}, {\"a1\": 27.11692625284195, \"a0\": 8.0}, {\"a1\": 38.05577790737152, \"a0\": 9.0}, {\"a1\": 33.56252270936966, \"a0\": 10.0}, {\"a1\": 41.79358792304993, \"a0\": 11.0}, {\"a1\": 20.468533873558044, \"a0\": 12.0}, {\"a1\": 33.45023041963577, \"a0\": 13.0}, {\"a1\": 26.200377345085144, \"a0\": 14.0}, {\"a1\": 23.11049658060074, \"a0\": 15.0}, {\"a1\": 23.14519989490509, \"a0\": 16.0}, {\"a1\": 26.956889390945435, \"a0\": 17.0}, {\"a1\": 32.48018652200699, \"a0\": 18.0}, {\"a1\": 25.10476714372635, \"a0\": 19.0}, {\"a1\": 14.969982326030731, \"a0\": 20.0}, {\"a1\": 28.033791601657867, \"a0\": 21.0}, {\"a1\": 23.14466029405594, \"a0\": 22.0}, {\"a1\": 31.843500912189484, \"a0\": 23.0}, {\"a1\": 27.978913009166718, \"a0\": 24.0}, {\"a1\": 22.332647621631622, \"a0\": 25.0}, {\"a1\": 29.689699709415436, \"a0\": 26.0}, {\"a1\": 22.389568746089935, \"a0\": 27.0}, {\"a1\": 18.306799590587616, \"a0\": 28.0}, {\"a1\": 23.280431032180786, \"a0\": 29.0}, {\"a1\": 19.547181129455566, \"a0\": 30.0}, {\"a1\": 23.21603411436081, \"a0\": 31.0}, {\"a1\": 22.262176156044006, \"a0\": 32.0}, {\"a1\": 15.87452632188797, \"a0\": 33.0}, {\"a1\": 25.236763179302216, \"a0\": 34.0}, {\"a1\": 19.40168732404709, \"a0\": 35.0}, {\"a1\": 20.287389755249023, \"a0\": 36.0}, {\"a1\": 15.8014577627182, \"a0\": 37.0}, {\"a1\": 19.39499056339264, \"a0\": 38.0}, {\"a1\": 14.065999269485474, \"a0\": 39.0}, {\"a1\": 13.953208327293396, \"a0\": 40.0}, {\"a1\": 20.392805576324463, \"a0\": 41.0}, {\"a1\": 18.611561357975006, \"a0\": 42.0}, {\"a1\": 16.688646018505096, \"a0\": 43.0}, {\"a1\": 21.426105260849, \"a0\": 44.0}, {\"a1\": 13.075462102890015, \"a0\": 45.0}, {\"a1\": 15.818933963775635, \"a0\": 46.0}, {\"a1\": 12.963499426841736, \"a0\": 47.0}, {\"a1\": 13.863996386528015, \"a0\": 48.0}, {\"a1\": 15.788436710834503, \"a0\": 49.0}, {\"a1\": 14.846856474876404, \"a0\": 50.0}, {\"a1\": 8.369423866271973, \"a0\": 51.0}, {\"a1\": 13.96545273065567, \"a0\": 52.0}, {\"a1\": 10.101017475128174, \"a0\": 53.0}, {\"a1\": 12.11561506986618, \"a0\": 54.0}, {\"a1\": 12.068866610527039, \"a0\": 55.0}, {\"a1\": 13.021506309509277, \"a0\": 56.0}, {\"a1\": 8.333071053028107, \"a0\": 57.0}, {\"a1\": 10.097199499607086, \"a0\": 58.0}, {\"a1\": 11.050192773342133, \"a0\": 59.0}, {\"a1\": 8.340046226978302, \"a0\": 60.0}, {\"a1\": 7.375683963298798, \"a0\": 61.0}, {\"a1\": 10.206887781620026, \"a0\": 62.0}, {\"a1\": 14.752922415733337, \"a0\": 63.0}, {\"a1\": 9.30872255563736, \"a0\": 64.0}, {\"a1\": 10.164162337779999, \"a0\": 65.0}, {\"a1\": 11.183462083339691, \"a0\": 66.0}, {\"a1\": 12.901986718177795, \"a0\": 67.0}, {\"a1\": 7.43451714515686, \"a0\": 68.0}, {\"a1\": 10.125138103961945, \"a0\": 69.0}, {\"a1\": 10.108530521392822, \"a0\": 70.0}, {\"a1\": 12.898390352725983, \"a0\": 71.0}, {\"a1\": 13.835691094398499, \"a0\": 72.0}, {\"a1\": 6.422083079814911, \"a0\": 73.0}, {\"a1\": 11.05034726858139, \"a0\": 74.0}, {\"a1\": 10.176435470581055, \"a0\": 75.0}, {\"a1\": 6.5646252036094666, \"a0\": 76.0}, {\"a1\": 8.311621308326721, \"a0\": 77.0}, {\"a1\": 11.054776191711426, \"a0\": 78.0}, {\"a1\": 6.502076625823975, \"a0\": 79.0}, {\"a1\": 12.87279623746872, \"a0\": 80.0}, {\"a1\": 5.5404332280159, \"a0\": 81.0}, {\"a1\": 8.277572691440582, \"a0\": 82.0}, {\"a1\": 7.358720541000366, \"a0\": 83.0}, {\"a1\": 3.7075724005699158, \"a0\": 84.0}, {\"a1\": 4.555793821811676, \"a0\": 85.0}, {\"a1\": 7.354749619960785, \"a0\": 86.0}, {\"a1\": 5.520137369632721, \"a0\": 87.0}, {\"a1\": 7.445264458656311, \"a0\": 88.0}, {\"a1\": 11.91870492696762, \"a0\": 89.0}, {\"a1\": 10.078379392623901, \"a0\": 89.99999999999999}, {\"a1\": 2.7607157826423645, \"a0\": 91.0}, {\"a1\": 6.370312809944153, \"a0\": 92.0}, {\"a1\": 6.479796230792999, \"a0\": 93.0}, {\"a1\": 8.286382853984833, \"a0\": 94.0}, {\"a1\": 2.788485825061798, \"a0\": 95.0}, {\"a1\": 4.603702485561371, \"a0\": 96.0}, {\"a1\": 6.455796003341675, \"a0\": 97.0}, {\"a1\": 7.402372717857361, \"a0\": 97.99999999999999}, {\"a1\": 6.44965398311615, \"a0\": 99.0}, {\"a1\": 5.536264181137085, \"a0\": 100.0}, {\"a1\": 4.5599876046180725, \"a0\": 101.0}, {\"a1\": 5.528917193412781, \"a0\": 102.0}, {\"a1\": 1.7942593097686768, \"a0\": 103.0}, {\"a1\": 2.734567880630493, \"a0\": 104.0}, {\"a1\": 9.284668803215027, \"a0\": 105.0}, {\"a1\": 6.383991777896881, \"a0\": 105.99999999999999}, {\"a1\": 1.8287386894226074, \"a0\": 107.0}, {\"a1\": 2.748753786087036, \"a0\": 108.0}, {\"a1\": 0.9396122097969055, \"a0\": 109.0}, {\"a1\": 2.747254967689514, \"a0\": 110.0}, {\"a1\": 4.612833619117737, \"a0\": 111.0}, {\"a1\": 7.278538286685944, \"a0\": 112.0}, {\"a1\": 1.8547377586364746, \"a0\": 113.0}, {\"a1\": 4.553874909877777, \"a0\": 113.99999999999999}, {\"a1\": 0.9165163636207581, \"a0\": 115.0}, {\"a1\": 4.539958119392395, \"a0\": 116.0}, {\"a1\": 1.8258197903633118, \"a0\": 117.0}, {\"a1\": 2.7420284152030945, \"a0\": 118.0}, {\"a1\": 4.603042423725128, \"a0\": 119.0}, {\"a1\": 2.7288292050361633, \"a0\": 120.0}, {\"a1\": 2.7583853006362915, \"a0\": 121.0}, {\"a1\": 0.9019885063171387, \"a0\": 121.99999999999999}, {\"a1\": 0.898566722869873, \"a0\": 123.0}, {\"a1\": 2.70613169670105, \"a0\": 124.0}, {\"a1\": 1.8330006003379822, \"a0\": 125.0}, {\"a1\": 0.9006473422050476, \"a0\": 126.0}, {\"a1\": 0.9255782961845398, \"a0\": 127.0}, {\"a1\": 2.727013409137726, \"a0\": 128.0}, {\"a1\": 2.792567014694214, \"a0\": 129.0}, {\"a1\": 1.7965510487556458, \"a0\": 130.0}, {\"a1\": 4.582608282566071, \"a0\": 131.0}, {\"a1\": 3.689692795276642, \"a0\": 132.0}, {\"a1\": 0.9178811311721802, \"a0\": 133.0}, {\"a1\": 3.647394895553589, \"a0\": 134.0}, {\"a1\": 1.8234646320343018, \"a0\": 135.0}, {\"a1\": 1.8171637058258057, \"a0\": 136.0}, {\"a1\": 0.9229528307914734, \"a0\": 137.0}, {\"a1\": 2.7317301630973816, \"a0\": 138.0}, {\"a1\": 0.9165163636207581, \"a0\": 139.0}, {\"a1\": 1.8149285912513733, \"a0\": 140.0}, {\"a1\": 0.0, \"a0\": 141.0}, {\"a1\": 1.8012946844100952, \"a0\": 142.0}, {\"a1\": 0.0, \"a0\": 143.0}, {\"a1\": 0.9165163636207581, \"a0\": 144.0}, {\"a1\": 0.0, \"a0\": 145.0}, {\"a1\": 0.0, \"a0\": 146.0}, {\"a1\": 0.0, \"a0\": 147.0}, {\"a1\": 0.0, \"a0\": 148.0}, {\"a1\": 0.9304777979850769, \"a0\": 149.0}, {\"a1\": 0.0, \"a0\": 150.0}]}, \"transform\": [], \"mark\": {\"type\": \"line\", \"clip\": true, \"interpolate\": \"step-before\"}};\n",
       "var opt = {};\n",
       "var type = \"vega-lite\";\n",
       "var id = \"3c8463a1-2307-479a-9ae5-1f405ec578dd\";\n",
       "\n",
       "var output_area = this;\n",
       "\n",
       "require([\"nbextensions/jupyter-vega/index\"], function(vega) {\n",
       "  var target = document.createElement(\"div\");\n",
       "  target.id = id;\n",
       "  target.className = \"vega-embed\";\n",
       "\n",
       "  var style = document.createElement(\"style\");\n",
       "  style.textContent = [\n",
       "    \".vega-embed .error p {\",\n",
       "    \"  color: firebrick;\",\n",
       "    \"  font-size: 14px;\",\n",
       "    \"}\",\n",
       "  ].join(\"\\\\n\");\n",
       "\n",
       "  // element is a jQuery wrapped DOM element inside the output area\n",
       "  // see http://ipython.readthedocs.io/en/stable/api/generated/\\\n",
       "  // IPython.display.html#IPython.display.Javascript.__init__\n",
       "  element[0].appendChild(target);\n",
       "  element[0].appendChild(style);\n",
       "\n",
       "  vega.render(\"#\" + id, spec, type, opt, output_area);\n",
       "}, function (err) {\n",
       "  if (err.requireType !== \"scripterror\") {\n",
       "    throw(err);\n",
       "  }\n",
       "});\n"
      ],
      "text/plain": [
       "<vega.vegalite.VegaLite at 0x11e132d50>"
      ]
     },
     "execution_count": 10,
     "metadata": {
      "jupyter-vega": "#3c8463a1-2307-479a-9ae5-1f405ec578dd"
     },
     "output_type": "execute_result"
    },
    {
     "data": {
      "image/png": "[encoded data removed]"
     },
     "metadata": {
      "jupyter-vega": "#3c8463a1-2307-479a-9ae5-1f405ec578dd"
     },
     "output_type": "display_data"
    }
   ],
   "source": [
    "#plot our monte-carlo with weights\n",
    "from histbook import Hist, beside, groupby, below\n",
    "from histbook import bin as hbin\n",
    "\n",
    "#flatten selected data to plot it\n",
    "# i.e. build a simple list from the mass values selected from all events\n",
    "m_flat = selected_dileptons.p4.mass.flatten()\n",
    "scaleFact = (selected_dileptons.at(0).SF*selected_dileptons.at(1).SF).flatten()\n",
    "\n",
    "\n",
    "#make and fill a histogram of the masses\n",
    "dilepMass = Hist(hbin(\"m_ll\", 145, 5, 150), weight=\"weight\")\n",
    "dilepMass.fill(m_ll=m_flat,weight=scaleFact)\n",
    "\n",
    "#plot it\n",
    "from vega import VegaLite as canvas\n",
    "#import vegascope; canvas = vegascope.LocalCanvas()\n",
    "dilepMass.step(\"m_ll\").to(canvas)"
   ]
  },
  {
   "cell_type": "code",
   "execution_count": null,
   "metadata": {},
   "outputs": [],
   "source": []
  }
 ],
 "metadata": {
  "kernelspec": {
   "display_name": "Python 2",
   "language": "python",
   "name": "python2"
  },
  "language_info": {
   "codemirror_mode": {
    "name": "ipython",
    "version": 2
   },
   "file_extension": ".py",
   "mimetype": "text/x-python",
   "name": "python",
   "nbconvert_exporter": "python",
   "pygments_lexer": "ipython2",
   "version": "2.7.15"
  }
 },
 "nbformat": 4,
 "nbformat_minor": 2
}
