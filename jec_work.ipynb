{
 "cells": [
  {
   "cell_type": "code",
   "execution_count": 1,
   "metadata": {},
   "outputs": [],
   "source": [
    "from __future__ import print_function\n",
    "\n",
    "import numpy as np\n",
    "import numexpr as ne\n",
    "import awkward\n",
    "from awkward import JaggedArray\n",
    "import numba\n",
    "\n",
    "from numpy import max,sqrt,log"
   ]
  },
  {
   "cell_type": "code",
   "execution_count": 2,
   "metadata": {},
   "outputs": [],
   "source": [
    "def numbaize(fstr,varlist):    \n",
    "    lstr = \"lambda %s: %s\" % (\",\".join(varlist), fstr)\n",
    "    func = eval(lstr)    \n",
    "    return numba.njit(func)"
   ]
  },
  {
   "cell_type": "code",
   "execution_count": 3,
   "metadata": {},
   "outputs": [
    {
     "name": "stdout",
     "output_type": "stream",
     "text": [
      "Fall17_17Nov2017_V32_MC_L1FastJet_AK4Calo\n"
     ]
    }
   ],
   "source": [
    "#extract first line of JEC file, setup function template\n",
    "jec_fname = '/Users/lagray/Downloads/Fall17_17Nov2017_V32_MC/Fall17_17Nov2017_V32_MC_L1FastJet_AK4Calo.txt'\n",
    "jec_f = open(jec_fname,'r')\n",
    "layoutstr = jec_f.readline().strip().strip('{}')\n",
    "jec_f.close()\n",
    "\n",
    "\n",
    "name = jec_fname.split('/')[-1].split('.')[0]\n",
    "print(name)\n",
    "    \n",
    "    \n",
    "layout = layoutstr.split()\n",
    "if not layout[0].isdigit():\n",
    "    raise Exception('First column of JEC descriptor must be a digit!')\n",
    "\n",
    "nBinnedVars = int(layout[0])\n",
    "nBinColumns = 2*nBinnedVars\n",
    "nEvalVars   = int(layout[nBinnedVars+1])\n",
    "formula     = layout[nBinnedVars+nEvalVars+2]\n",
    "nParms      = 0\n",
    "while( formula.count('[%i]'%nParms) ): \n",
    "    formula = formula.replace('[%i]'%nParms,'p%i'%nParms)\n",
    "    nParms += 1\n",
    "#protect function names with vars in them \n",
    "funcs_to_cap = ['max','exp']\n",
    "for f in funcs_to_cap:\n",
    "    formula = formula.replace(f,f.upper())\n",
    "\n",
    "templatevars = ['x','y','z','w','t','s']\n",
    "varnames = [layout[i+nBinnedVars+2] for i in range(nEvalVars)]\n",
    "for find,replace in zip(templatevars,varnames):\n",
    "    formula = formula.replace(find,replace)\n",
    "#restore max\n",
    "for f in funcs_to_cap:\n",
    "    formula = formula.replace(f.upper(),f)\n",
    "nFuncColumns = 2*nEvalVars + nParms\n",
    "nTotColumns = nFuncColumns + 1\n",
    "\n",
    "func = numbaize(formula,['p%i'%i for i in range(nParms)]+[varnames[i] for i in range(nEvalVars)])"
   ]
  },
  {
   "cell_type": "code",
   "execution_count": 4,
   "metadata": {},
   "outputs": [
    {
     "name": "stdout",
     "output_type": "stream",
     "text": [
      "82\n"
     ]
    }
   ],
   "source": [
    "#parse the columns\n",
    "minMax = ['Min','Max']\n",
    "columns = []\n",
    "dtypes = []\n",
    "offset = 1\n",
    "for i in range(nBinnedVars):\n",
    "    columns.extend(['%s%s'%(layout[i+offset],mm) for mm in minMax])\n",
    "    dtypes.extend(['<f8','<f8'])\n",
    "columns.append('NVars')\n",
    "dtypes.append('<i8')\n",
    "offset += nBinnedVars + 1\n",
    "for i in range(nEvalVars):\n",
    "    columns.extend(['%s%s'%(layout[i+offset],mm) for mm in minMax])\n",
    "    dtypes.extend(['<f8','<f8'])\n",
    "for i in range(nParms):\n",
    "    columns.append('p%i'%i)\n",
    "    dtypes.append('<f8')\n",
    "    \n",
    "pars = np.genfromtxt(jec_fname,\n",
    "                     dtype=tuple(dtypes),\n",
    "                     names=tuple(columns),\n",
    "                     skip_header=1,\n",
    "                     unpack=True,\n",
    "                     encoding='ascii'\n",
    "                     )\n",
    "\n",
    "print(pars.size)"
   ]
  },
  {
   "cell_type": "code",
   "execution_count": 5,
   "metadata": {},
   "outputs": [],
   "source": [
    "#the first bin is always usual for JECs\n",
    "#the next bins may vary in number, so they're jagged arrays... yay\n",
    "bins = {}\n",
    "offset_col = 0\n",
    "offset_name = 1\n",
    "bin_order = []\n",
    "for i in range(nBinnedVars):\n",
    "    binMins = None\n",
    "    binMaxs = None\n",
    "    if i == 0:\n",
    "        binMins = np.unique(pars[columns[0]])\n",
    "        binMaxs = np.unique(pars[columns[1]])\n",
    "        bins[layout[i+offset_name]] = np.union1d(binMins,binMaxs)\n",
    "    else:\n",
    "        counts = np.zeros(0,dtype=np.int)\n",
    "        allBins = np.zeros(0,dtype=np.double)\n",
    "        for binMin in bins[bin_order[0]][:-1]: \n",
    "            binMins = np.unique(pars[np.where(pars[columns[0]] == binMin)][columns[i+offset_col]])\n",
    "            binMaxs = np.unique(pars[np.where(pars[columns[0]] == binMin)][columns[i+offset_col+1]])\n",
    "            theBins = np.union1d(binMins,binMaxs)            \n",
    "            allBins = np.append(allBins,theBins)\n",
    "            counts  = np.append(counts,theBins.size)\n",
    "        bins[layout[i+offset_name]] = JaggedArray.fromcounts(counts,allBins)    \n",
    "    bin_order.append(layout[i+offset_name])\n",
    "    offset_col += 1"
   ]
  },
  {
   "cell_type": "code",
   "execution_count": 6,
   "metadata": {},
   "outputs": [],
   "source": [
    "#skip nvars to the variable columns\n",
    "#the columns here define clamps for the variables defined in columns[]\n",
    "# ----> clamps can be different from bins\n",
    "# ----> if there is more than one binning variable this array is jagged\n",
    "# ----> just make it jagged all the time\n",
    "binshapes = tuple([bins[thebin].size-1 for thebin in bin_order])\n",
    "clamp_mins = {}\n",
    "clamp_maxs = {}\n",
    "var_order = []\n",
    "offset_col = 2*nBinnedVars+1\n",
    "offset_name = nBinnedVars + 2\n",
    "jagged_counts = np.ones(bins[bin_order[0]].size-1,dtype=np.int)\n",
    "if len(bin_order) > 1:\n",
    "    jagged_counts = np.maximum(bins[bin_order[1]].counts - 1,0) #need counts-1 since we only care about Nbins\n",
    "for i in range(nEvalVars):    \n",
    "    clamp_mins[layout[i+offset_name]] = JaggedArray.fromcounts(jagged_counts,np.atleast_1d(pars[columns[i+offset_col]]))\n",
    "    clamp_maxs[layout[i+offset_name]] = JaggedArray.fromcounts(jagged_counts,np.atleast_1d(pars[columns[i+offset_col+1]]))\n",
    "    var_order.append(layout[i+offset_name])\n",
    "    offset_col += 1"
   ]
  },
  {
   "cell_type": "code",
   "execution_count": 7,
   "metadata": {},
   "outputs": [],
   "source": [
    "#now get the parameters, which we will look up with the clamps\n",
    "parms = []\n",
    "parm_order = []\n",
    "offset_col = 2*nBinnedVars+1 + 2*nEvalVars\n",
    "for i in range(nParms):\n",
    "    parms.append(JaggedArray.fromcounts(jagged_counts,pars[columns[i+offset_col]]))\n",
    "    parm_order.append('p%i'%(i))"
   ]
  },
  {
   "cell_type": "code",
   "execution_count": 8,
   "metadata": {},
   "outputs": [
    {
     "name": "stdout",
     "output_type": "stream",
     "text": [
      "bins list     : ['JetEta']\n",
      "bins\n",
      "{'JetEta': array([-5.191, -4.889, -4.716, -4.538, -4.363, -4.191, -4.013, -3.839,\n",
      "       -3.664, -3.489, -3.314, -3.139, -2.964, -2.853, -2.65 , -2.5  ,\n",
      "       -2.322, -2.172, -2.043, -1.93 , -1.83 , -1.74 , -1.653, -1.566,\n",
      "       -1.479, -1.392, -1.305, -1.218, -1.131, -1.044, -0.957, -0.879,\n",
      "       -0.783, -0.696, -0.609, -0.522, -0.435, -0.348, -0.261, -0.174,\n",
      "       -0.087,  0.   ,  0.087,  0.174,  0.261,  0.348,  0.435,  0.522,\n",
      "        0.609,  0.696,  0.783,  0.879,  0.957,  1.044,  1.131,  1.218,\n",
      "        1.305,  1.392,  1.479,  1.566,  1.653,  1.74 ,  1.83 ,  1.93 ,\n",
      "        2.043,  2.172,  2.322,  2.5  ,  2.65 ,  2.853,  2.964,  3.139,\n",
      "        3.314,  3.489,  3.664,  3.839,  4.013,  4.191,  4.363,  4.538,\n",
      "        4.716,  4.889,  5.191])}\n",
      "\n",
      "var list      : ['Rho', 'JetPt', 'JetA']\n",
      "var clamps LUT\n",
      "{'JetA': <JaggedArray [[0.] [0.] [0.] ... [0.] [0.] [0.]] at 000125c32710>, 'JetPt': <JaggedArray [[1.] [1.] [1.] ... [1.] [1.] [1.]] at 000125c32690>, 'Rho': <JaggedArray [[0.] [0.] [0.] ... [0.] [0.] [0.]] at 000125c32610>}\n",
      "{'JetA': <JaggedArray [[10.] [10.] [10.] ... [10.] [10.] [10.]] at 000125c32750>, 'JetPt': <JaggedArray [[3000.] [3000.] [3000.] ... [3000.] [3000.] [3000.]] at 000125c326d0>, 'Rho': <JaggedArray [[50.] [50.] [50.] ... [50.] [50.] [50.]] at 000125c32650>}\n",
      "\n",
      "parameter list: ['p0', 'p1', 'p2']\n",
      "parameters LUT\n",
      "[<JaggedArray [[3000.] [3000.] [3000.] ... [3000.] [3000.] [3000.]] at 000125bbee90>, <JaggedArray [[0.] [0.] [0.] ... [0.] [0.] [0.]] at 000125bbeed0>, <JaggedArray [[10.] [10.] [10.] ... [10.] [10.] [10.]] at 000125bbef10>]\n",
      "\n",
      "formula       : max(0.0001,1-JetA*(p0+(p1*Rho)*(1+p2*log(JetPt)))/JetPt)\n"
     ]
    }
   ],
   "source": [
    "print('bins list     :',bin_order)\n",
    "print('bins')\n",
    "print(bins)\n",
    "print()\n",
    "\n",
    "\n",
    "print('var list      :',var_order)\n",
    "print('var clamps LUT')\n",
    "print(clamp_mins)\n",
    "print(clamp_maxs)\n",
    "print()\n",
    "\n",
    "print('parameter list:',parm_order)\n",
    "print('parameters LUT')\n",
    "print(parms)\n",
    "print()\n",
    "\n",
    "print('formula       :',formula)"
   ]
  },
  {
   "cell_type": "code",
   "execution_count": null,
   "metadata": {},
   "outputs": [],
   "source": []
  }
 ],
 "metadata": {
  "kernelspec": {
   "display_name": "Python 2",
   "language": "python",
   "name": "python2"
  },
  "language_info": {
   "codemirror_mode": {
    "name": "ipython",
    "version": 2
   },
   "file_extension": ".py",
   "mimetype": "text/x-python",
   "name": "python",
   "nbconvert_exporter": "python",
   "pygments_lexer": "ipython2",
   "version": "2.7.15"
  }
 },
 "nbformat": 4,
 "nbformat_minor": 2
}
