{
 "cells": [
  {
   "cell_type": "code",
   "execution_count": 1,
   "metadata": {},
   "outputs": [],
   "source": [
    "from __future__ import print_function\n",
    "\n",
    "import numpy as np\n",
    "import numexpr as ne\n",
    "import awkward\n",
    "from awkward import JaggedArray\n",
    "import numba\n",
    "\n",
    "from numpy import max,sqrt,log"
   ]
  },
  {
   "cell_type": "code",
   "execution_count": 2,
   "metadata": {},
   "outputs": [],
   "source": [
    "def numbaize(fstr,varlist):    \n",
    "    lstr = \"lambda %s: %s\" % (\",\".join(varlist), fstr)\n",
    "    func = eval(lstr)    \n",
    "    return numba.njit(func)"
   ]
  },
  {
   "cell_type": "code",
   "execution_count": 3,
   "metadata": {},
   "outputs": [],
   "source": [
    "#extract first line of JEC file, setup function template\n",
    "jec_fname = '/Users/lagray/Downloads/Fall17_17Nov2017_V32_MC/Fall17_17Nov2017_V32_MC_L2Relative_AK4PFPuppi.txt'\n",
    "jecs = open(jec_fname,'r').readlines()\n",
    "\n",
    "layoutstr = jecs.pop(0).strip().strip('{}')\n",
    "\n",
    "layout = layoutstr.split()\n",
    "if not layout[0].isdigit():\n",
    "    raise Exception('First column of JEC descriptor must be a digit!')\n",
    "\n",
    "nBinnedVars = int(layout[0])\n",
    "nBinColumns = 2*nBinnedVars\n",
    "nEvalVars   = int(layout[nBinnedVars+1])\n",
    "formula     = layout[nBinnedVars+nEvalVars+2]\n",
    "nParms      = 0\n",
    "while( formula.count('[%i]'%nParms) ): \n",
    "    formula = formula.replace('[%i]'%nParms,'p%i'%nParms)\n",
    "    nParms += 1\n",
    "#protect max \n",
    "formula = formula.replace('max','MAX')\n",
    "templatevars = ['x','y','z','w','t','s']\n",
    "varnames = [layout[i+nBinnedVars+2] for i in range(nEvalVars)]\n",
    "for find,replace in zip(templatevars,varnames):\n",
    "    formula = formula.replace(find,replace)\n",
    "#restore max \n",
    "formula = formula.replace('MAX','max')\n",
    "nFuncColumns = 2*nEvalVars + nParms\n",
    "nTotColumns = nFuncColumns + 1\n",
    "\n",
    "func = numbaize(formula,['p%i'%i for i in range(nParms)]+[varnames[i] for i in range(nEvalVars)])"
   ]
  },
  {
   "cell_type": "code",
   "execution_count": 4,
   "metadata": {},
   "outputs": [
    {
     "name": "stdout",
     "output_type": "stream",
     "text": [
      "1892\n"
     ]
    }
   ],
   "source": [
    "#parse the columns\n",
    "minMax = ['Min','Max']\n",
    "columns = []\n",
    "dtypes = []\n",
    "offset = 1\n",
    "for i in range(nBinnedVars):\n",
    "    columns.extend(['%s%s'%(layout[i+offset],mm) for mm in minMax])\n",
    "    dtypes.extend(['<f8','<f8'])\n",
    "columns.append('NVars')\n",
    "dtypes.append('<i8')\n",
    "offset += nBinnedVars + 1\n",
    "for i in range(nEvalVars):\n",
    "    columns.extend(['%s%s'%(layout[i+offset],mm) for mm in minMax])\n",
    "    dtypes.extend(['<f8','<f8'])\n",
    "for i in range(nParms):\n",
    "    columns.append('p%i'%i)\n",
    "    dtypes.append('<f8')\n",
    "    \n",
    "pars = np.genfromtxt(jec_fname,\n",
    "                     dtype=tuple(dtypes),\n",
    "                     names=tuple(columns),\n",
    "                     skip_header=1,\n",
    "                     unpack=True,\n",
    "                     encoding='ascii'\n",
    "                     )\n",
    "\n",
    "print(pars.size)"
   ]
  },
  {
   "cell_type": "code",
   "execution_count": 5,
   "metadata": {},
   "outputs": [],
   "source": [
    "#the first bin is always usual for JECs\n",
    "#the next bins may vary in number, so they're jagged arrays... yay\n",
    "bins = {}\n",
    "offset_col = 0\n",
    "offset_name = 1\n",
    "bin_order = []\n",
    "for i in range(nBinnedVars):\n",
    "    binMins = None\n",
    "    binMaxs = None\n",
    "    if i == 0:\n",
    "        binMins = np.unique(pars[columns[0]])\n",
    "        binMaxs = np.unique(pars[columns[1]])\n",
    "        bins[layout[i+offset_name]] = np.union1d(binMins,binMaxs)\n",
    "    else:\n",
    "        counts = np.zeros(0,dtype=np.int)\n",
    "        allBins = np.zeros(0,dtype=np.double)\n",
    "        for binMin in bins[bin_order[0]][:-1]: \n",
    "            binMins = np.unique(pars[np.where(pars[columns[0]] == binMin)][columns[i+offset_col]])\n",
    "            binMaxs = np.unique(pars[np.where(pars[columns[0]] == binMin)][columns[i+offset_col+1]])\n",
    "            theBins = np.union1d(binMins,binMaxs)            \n",
    "            allBins = np.append(allBins,theBins)\n",
    "            counts  = np.append(counts,theBins.size)\n",
    "        bins[layout[i+offset_name]] = JaggedArray.fromcounts(counts,allBins)    \n",
    "    bin_order.append(layout[i+offset_name])\n",
    "    offset_col += 1"
   ]
  },
  {
   "cell_type": "code",
   "execution_count": 6,
   "metadata": {},
   "outputs": [],
   "source": [
    "#skip nvars to the variable columns\n",
    "#the columns here define clamps for the variables defined in columns[]\n",
    "# ----> clamps can be different from bins\n",
    "# ----> if there is more than one binning variable this array is jagged\n",
    "# ----> just make it jagged all the time\n",
    "binshapes = tuple([bins[thebin].size-1 for thebin in bin_order])\n",
    "clamp_mins = {}\n",
    "clamp_maxs = {}\n",
    "var_order = []\n",
    "offset_col = 2*nBinnedVars+1\n",
    "offset_name = nBinnedVars + 2\n",
    "jagged_counts = np.ones(bins[bin_order[0]].size)\n",
    "if len(bin_order) > 1:\n",
    "    jagged_counts = np.maximum(bins[bin_order[1]].counts - 1,0)\n",
    "    \n",
    "for i in range(nEvalVars):\n",
    "    clamp_mins[layout[i+offset_name]] = JaggedArray.fromcounts(jagged_counts,pars[columns[i+offset_col]])\n",
    "    clamp_maxs[layout[i+offset_name]] = JaggedArray.fromcounts(jagged_counts,pars[columns[i+offset_col+1]])\n",
    "    var_order.append(layout[i+offset_name])\n",
    "    offset_col += 2"
   ]
  },
  {
   "cell_type": "code",
   "execution_count": 7,
   "metadata": {},
   "outputs": [],
   "source": [
    "#now get the parameters, which we will look up with the clamps\n",
    "parms = []\n",
    "parm_order = []\n",
    "for i in range(nParms):\n",
    "    parms.append(JaggedArray.fromcounts(jagged_counts,pars[columns[i+offset_col]]))\n",
    "    parm_order.append('p%i'%(i))"
   ]
  },
  {
   "cell_type": "code",
   "execution_count": 8,
   "metadata": {},
   "outputs": [
    {
     "name": "stdout",
     "output_type": "stream",
     "text": [
      "bins list     : ['JetEta', 'JetPt']\n",
      "bins\n",
      "{'JetEta': array([-5.191, -4.889, -4.716, -4.538, -4.363, -4.191, -4.013, -3.839,\n",
      "       -3.664, -3.489, -3.314, -3.139, -2.964, -2.853, -2.65 , -2.5  ,\n",
      "       -2.322, -2.172, -2.043, -1.93 , -1.83 , -1.74 , -1.653, -1.566,\n",
      "       -1.479, -1.392, -1.305, -1.218, -1.131, -1.044, -0.957, -0.879,\n",
      "       -0.783, -0.696, -0.609, -0.522, -0.435, -0.348, -0.261, -0.174,\n",
      "       -0.087,  0.   ,  0.087,  0.174,  0.261,  0.348,  0.435,  0.522,\n",
      "        0.609,  0.696,  0.783,  0.879,  0.957,  1.044,  1.131,  1.218,\n",
      "        1.305,  1.392,  1.479,  1.566,  1.653,  1.74 ,  1.83 ,  1.93 ,\n",
      "        2.043,  2.172,  2.322,  2.5  ,  2.65 ,  2.853,  2.964,  3.139,\n",
      "        3.314,  3.489,  3.664,  3.839,  4.013,  4.191,  4.363,  4.538,\n",
      "        4.716,  4.889,  5.191]), 'JetPt': <JaggedArray [[1.00000e-03 8.95328e+00 1.04135e+01 1.21083e+01 1.43796e+01 1.71404e+01 2.05973e+01 2.42474e+01 6.50000e+03] [1.00000e-03 8.77112e+00 1.01888e+01 1.16264e+01 1.37686e+01 1.63031e+01 1.90385e+01 6.50000e+03] [1.00000e-03 8.97616e+00 1.09194e+01 1.30985e+01 1.60494e+01 2.00222e+01 2.39770e+01 2.94869e+01 4.04351e+01 5.49104e+01 6.50000e+03] ... [1.00000e-03 8.81848e+00 1.08565e+01 1.31474e+01 1.55752e+01 1.94979e+01 2.37436e+01 2.94641e+01 4.09325e+01 5.36052e+01 6.50000e+03] [1.00000e-03 8.54862e+00 1.00974e+01 1.15516e+01 1.35167e+01 1.55734e+01 1.90547e+01 6.50000e+03] [1.00000e-03 9.03323e+00 1.06994e+01 1.24678e+01 1.41753e+01 1.75264e+01 2.01666e+01 2.39958e+01 6.50000e+03]] at 00010af4be90>}\n",
      "\n",
      "var list      : ['JetPt']\n",
      "var clamps LUT\n",
      "{'JetPt': <JaggedArray [[1.00000e-03 8.95328e+00 1.04135e+01 1.21083e+01 1.43796e+01 1.71404e+01 2.05973e+01 2.42474e+01] [1.00000e-03 8.77112e+00 1.01888e+01 1.16264e+01 1.37686e+01 1.63031e+01 1.90385e+01] [1.00000e-03 8.97616e+00 1.09194e+01 1.30985e+01 1.60494e+01 2.00222e+01 2.39770e+01 2.94869e+01 4.04351e+01 5.49104e+01] ... [1.00000e-03 8.81848e+00 1.08565e+01 1.31474e+01 1.55752e+01 1.94979e+01 2.37436e+01 2.94641e+01 4.09325e+01 5.36052e+01] [1.00000e-03 8.54862e+00 1.00974e+01 1.15516e+01 1.35167e+01 1.55734e+01 1.90547e+01] [1.00000e-03 9.03323e+00 1.06994e+01 1.24678e+01 1.41753e+01 1.75264e+01 2.01666e+01 2.39958e+01]] at 0001215422d0>}\n",
      "{'JetPt': <JaggedArray [[   8.95328   10.4135    12.1083    14.3796    17.1404    20.5973    24.2474  6500.     ] [   8.77112   10.1888    11.6264    13.7686    16.3031    19.0385  6500.     ] [   8.97616   10.9194    13.0985    16.0494    20.0222    23.977     29.4869    40.4351    54.9104  6500.     ] ... [   8.81848   10.8565    13.1474    15.5752    19.4979    23.7436    29.4641    40.9325    53.6052  6500.     ] [   8.54862   10.0974    11.5516    13.5167    15.5734    19.0547  6500.     ] [   9.03323   10.6994    12.4678    14.1753    17.5264    20.1666    23.9958  6500.     ]] at 000121542310>}\n",
      "\n",
      "parameter list: ['p0', 'p1', 'p2', 'p3', 'p4']\n",
      "parameters LUT\n",
      "[<JaggedArray [[2.63864726 2.53808942 2.49834577 2.3931996  2.27987894 2.20122888 2.05704474 2.00442137] [2.81024715 2.60813364 2.59331471 2.49893078 2.45815391 2.34573104 2.22124896] [2.6953451  2.57156571 2.32051927 2.21554146 2.01733534 1.87129347 1.76782325 1.65611463 1.53205942 1.41800755] ... [2.68609049 2.59659431 2.36110136 2.19235543 2.06919851 1.94039227 1.76125176 1.68512997 1.50637138 1.43978335] [2.79892802 2.76893197 2.54717951 2.55933707 2.41002528 2.45900002 2.23875475] [2.55893863 2.53087624 2.3738647  2.31573952 2.30058396 2.13253219 2.11840263 1.99776907]] at 000121445510>, <JaggedArray [[ 7.81654753  8.95327659 10.413492   12.10830116 14.37963373 17.14044039 20.5972504  24.24742612] [ 7.45216041  8.77111617 10.18880045 11.62640684 13.76863152 16.30305311 19.03847238] [ 7.57806825  8.97616282 10.91941164 13.0985291  16.04940927 20.02222289 23.97700475 29.48688561 40.43505435 54.91036629] ... [ 7.55757957  8.81847991 10.85650297 13.1474439  15.57517511 19.49790135 23.74362341 29.46414182 40.93246542 53.60518   ] [ 7.59038116  8.54861959 10.09744423 11.55159865 13.51669675 15.57337927 19.05474955] [ 7.88621306  9.03322871 10.6994039  12.4678251  14.17528569 17.52643084 20.1666483  23.99580005]] at 000121445550>, <JaggedArray [[-0.08418211 -0.04139023 -0.05627613 -0.05451625 -0.03964279 -0.03429952 -0.02931823 -0.0043697 ] [ 0.02698641 -0.03202848 -0.05206675 -0.03369566 -0.04374921 -0.04492981 -0.04331655] [-0.06678523 -0.10764051 -0.07397204 -0.06198486 -0.04764994 -0.02788264 -0.02296955 -0.01463611 -0.00872574 -0.0063012 ] ... [-0.06874322 -0.08160206 -0.08788781 -0.05759164 -0.03802183 -0.03641508 -0.018967   -0.01498637 -0.00707805 -0.0047878 ] [-0.0390057  -0.0633551  -0.0567768  -0.04249237 -0.02688051 -0.04589359 -0.04359924] [-0.01849519 -0.06279746 -0.04857123 -0.01852359 -0.02327097 -0.02272708 -0.02423962 -0.02111766]] at 000121445590>, <JaggedArray [[-0.04894121  0.03931173 -0.01124129 -0.00044019  0.01018575 -0.00787236  0.00541238  0.0006734 ] [-3.65180476e-01  5.97911500e-02 -4.11318554e-02  2.52242759e-02 -2.55264734e-04 -1.22332612e-03  1.50158991e-02] [-1.74466363e-02 -5.05926153e-02  3.00146909e-02 -1.01277485e-02  3.24746843e-03  6.19169719e-05 -4.49194472e-05  3.65772381e-04  7.97830442e-06  6.18512676e-05] ... [ 4.88105842e-03 -4.68871847e-02  5.40979715e-03  4.19094304e-04  3.55646638e-03 -8.19233809e-03  2.27251634e-03 -8.46740032e-04  2.50977938e-04 -1.21100087e-05] [ 0.04952474 -0.15885401  0.12455877 -0.059071    0.08318839 -0.0156276  -0.00106914] [ 0.02300854 -0.065142    0.0096475   0.019731   -0.02422267  0.02031605 -0.00650668  0.0007268 ]] at 000121445490>, <JaggedArray [[ 3.97418545e-02 -2.02750401e-02  4.62608126e-03  1.09021522e-03 -2.22593154e-03  1.65718484e-03 -3.64355091e-04  6.74145126e-05] [ 1.73272757e-01 -3.14401931e-02  2.20372443e-02 -8.58011373e-03  5.87960755e-06  3.70012671e-04 -2.35496016e-03] [ 1.35211616e-03  2.03286888e-02 -8.34106002e-03  2.83681923e-03 -1.27474238e-04  9.42726132e-05  9.69345029e-05 -5.83642690e-06  3.48957451e-06  3.29416391e-07] ... [-5.27672032e-03  1.48330230e-02  3.49891332e-04  9.91702139e-04 -5.69615006e-04  1.60901118e-03 -2.24290994e-04  6.92649950e-05 -8.44947944e-06  8.13227354e-07] [-0.04329474  0.06929024 -0.05485304  0.02138766 -0.02846353  0.00305572  0.0006756 ] [-2.45974670e-02  2.77726425e-02 -4.34242161e-04 -8.24662620e-03  4.83492744e-03 -5.20222125e-03  1.20380728e-03  3.64104251e-05]] at 000121445750>]\n",
      "\n",
      "formula       : max(0.0001,p0+((JetPt-p1)*(p2+((JetPt-p1)*(p3+((JetPt-p1)*p4))))))\n"
     ]
    }
   ],
   "source": [
    "print('bins list     :',bin_order)\n",
    "print('bins')\n",
    "print(bins)\n",
    "print()\n",
    "\n",
    "\n",
    "print('var list      :',var_order)\n",
    "print('var clamps LUT')\n",
    "print(clamp_mins)\n",
    "print(clamp_maxs)\n",
    "print()\n",
    "\n",
    "print('parameter list:',parm_order)\n",
    "print('parameters LUT')\n",
    "print(parms)\n",
    "print()\n",
    "\n",
    "print('formula       :',formula)"
   ]
  },
  {
   "cell_type": "code",
   "execution_count": null,
   "metadata": {},
   "outputs": [],
   "source": []
  }
 ],
 "metadata": {
  "kernelspec": {
   "display_name": "Python 2",
   "language": "python",
   "name": "python2"
  },
  "language_info": {
   "codemirror_mode": {
    "name": "ipython",
    "version": 2
   },
   "file_extension": ".py",
   "mimetype": "text/x-python",
   "name": "python",
   "nbconvert_exporter": "python",
   "pygments_lexer": "ipython2",
   "version": "2.7.15"
  }
 },
 "nbformat": 4,
 "nbformat_minor": 2
}
