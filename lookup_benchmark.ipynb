{
 "cells": [
  {
   "cell_type": "code",
   "execution_count": 1,
   "metadata": {},
   "outputs": [],
   "source": [
    "from __future__ import print_function\n",
    "import numpy as np\n",
    "import awkward\n",
    "import uproot_methods\n",
    "\n",
    "import fnal_column_analysis_tools.lookup_tools as lookup_tools\n",
    "from fnal_column_analysis_tools.analysis_objects import JaggedDecoratedFourVector, JaggedWithLorentz"
   ]
  },
  {
   "cell_type": "code",
   "execution_count": 2,
   "metadata": {},
   "outputs": [],
   "source": [
    "# import a bunch of correction histograms\n",
    "# wrapped in numpythonic interface\n",
    "weights_ext = lookup_tools.extractor()\n",
    "correction_data = open(\"newCorrectionFiles.txt\").readlines()\n",
    "weights_ext.add_weight_sets(correction_data)\n",
    "weights_ext.finalize()\n",
    "weights_eval = weights_ext.make_evaluator()\n",
    "#what scale factors / corrections do we have available? (uncomment to dump this)\n",
    "#dir(weights_eval)"
   ]
  },
  {
   "cell_type": "code",
   "execution_count": 3,
   "metadata": {},
   "outputs": [],
   "source": [
    "#let's create some fake data\n",
    "np.random.seed(4)\n",
    "nrows = 4000000\n",
    "\n",
    "nwide = 4\n",
    "\n",
    "counts1 = np.minimum(np.random.exponential(0.5, size=nrows).astype(int), 20)\n",
    "counts2 = np.minimum(np.random.exponential(0.5, size=nrows).astype(int), 20)\n",
    "content1_pxy = np.random.normal(loc=20.0,scale=5.0,size=np.sum(counts1)*2).reshape((-1, 2))\n",
    "content2_pxy = np.random.normal(loc=20.0,scale=5.0,size=np.sum(counts2)*2).reshape((-1, 2))\n",
    "content1_z = np.random.normal(loc=0, scale=55, size=np.sum(counts1))\n",
    "content2_z = np.random.normal(loc=0, scale=55, size=np.sum(counts2))\n",
    "awk_vector1 = JaggedWithLorentz.fromcounts(counts1,uproot_methods.TLorentzVectorArray(content1_pxy[:,0],\n",
    "                                                                                      content1_pxy[:,1],\n",
    "                                                                                      content1_z[:],\n",
    "                                                                                      np.sqrt(content1_pxy[:,0]**2 + \n",
    "                                                                                              content1_pxy[:,1]**2 + \n",
    "                                                                                              content1_z[:]**2 )))\n",
    "awk_vector2 = JaggedWithLorentz.fromcounts(counts2,uproot_methods.TLorentzVectorArray(content2_pxy[:,0],\n",
    "                                                                                      content2_pxy[:,1],\n",
    "                                                                                      content2_z[:],\n",
    "                                                                                      np.sqrt(content2_pxy[:,0]**2 + \n",
    "                                                                                              content2_pxy[:,1]**2 + \n",
    "                                                                                              content2_z[:]**2 )))"
   ]
  },
  {
   "cell_type": "code",
   "execution_count": 4,
   "metadata": {},
   "outputs": [],
   "source": [
    "#make the basic tables of \"muons\" and \"electrons\"\n",
    "muons = JaggedDecoratedFourVector.fromcounts(counts1,\n",
    "                                             p4 = awk_vector1.content\n",
    "                                             )\n",
    "electrons = JaggedDecoratedFourVector.fromcounts(counts2,\n",
    "                                                 p4 = awk_vector2.content\n",
    "                                                 )\n",
    "\n",
    "muon_eta = muons.p4.eta\n",
    "muon_pt = muons.p4.pt\n",
    "\n",
    "electron_eta = electrons.p4.eta\n",
    "electron_pt = electrons.p4.pt"
   ]
  },
  {
   "cell_type": "code",
   "execution_count": 5,
   "metadata": {},
   "outputs": [
    {
     "name": "stdout",
     "output_type": "stream",
     "text": [
      "1 loop, best of 3: 3.01 s per loop\n",
      "1 loop, best of 3: 3.07 s per loop\n",
      "10 loops, best of 3: 70.4 ms per loop\n",
      "10 loops, best of 3: 34.1 ms per loop\n"
     ]
    }
   ],
   "source": [
    "#using the lorentz vectors\n",
    "%timeit temp1 = weights_eval[\"muScaleFactor_MediumId_Iso\"](np.abs(muons.p4.eta),muons.p4.pt)\n",
    "%timeit temp2 = weights_eval[\"eleScaleFactor_MediumId_MVA_POG\"](electrons.p4.eta,electrons.p4.pt)\n",
    "\n",
    "# pt and eta jagged arrays, no internal eval\n",
    "%timeit temp1 = weights_eval[\"muScaleFactor_MediumId_Iso\"](np.abs(muon_eta),muon_pt)\n",
    "%timeit temp2 = weights_eval[\"eleScaleFactor_MediumId_MVA_POG\"](electron_eta,electron_pt)"
   ]
  }
 ],
 "metadata": {
  "kernelspec": {
   "display_name": "Python 2",
   "language": "python",
   "name": "python2"
  },
  "language_info": {
   "codemirror_mode": {
    "name": "ipython",
    "version": 2
   },
   "file_extension": ".py",
   "mimetype": "text/x-python",
   "name": "python",
   "nbconvert_exporter": "python",
   "pygments_lexer": "ipython2",
   "version": "2.7.15"
  }
 },
 "nbformat": 4,
 "nbformat_minor": 2
}
